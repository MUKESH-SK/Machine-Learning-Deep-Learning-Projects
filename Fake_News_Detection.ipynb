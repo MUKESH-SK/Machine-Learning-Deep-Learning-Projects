{
  "cells": [
    {
      "cell_type": "markdown",
      "metadata": {
        "id": "sO0SZoLBxt5t"
      },
      "source": [
        "#**Getting the data**"
      ]
    },
    {
      "cell_type": "code",
      "source": [
        "from google.colab import drive\n",
        "drive.mount('/content/gdrive')"
      ],
      "metadata": {
        "colab": {
          "base_uri": "https://localhost:8080/"
        },
        "id": "PvVOwvm9kLDj",
        "outputId": "e0a1ba69-2fab-4c64-ef70-61cc8026ad0b"
      },
      "execution_count": null,
      "outputs": [
        {
          "output_type": "stream",
          "name": "stdout",
          "text": [
            "Mounted at /content/gdrive\n"
          ]
        }
      ]
    },
    {
      "cell_type": "code",
      "execution_count": null,
      "metadata": {
        "id": "hxalzOSUl966"
      },
      "outputs": [],
      "source": [
        "!pip install tensorflow-text\n",
        "!pip install transformers\n",
        "import tensorflow_text"
      ]
    },
    {
      "cell_type": "code",
      "execution_count": null,
      "metadata": {
        "id": "uJcMPcTndYZJ"
      },
      "outputs": [],
      "source": [
        "# replacing the null values with empty string\n",
        "news_dataset = news_dataset.fillna('')#fillna fills with whatever we mention"
      ]
    },
    {
      "cell_type": "markdown",
      "metadata": {
        "id": "2VmNKdBm6Pcn"
      },
      "source": [
        "#**Helper functions**"
      ]
    },
    {
      "cell_type": "code",
      "execution_count": null,
      "metadata": {
        "id": "zO-WHIib6Sxa"
      },
      "outputs": [],
      "source": [
        "from sklearn.metrics import accuracy_score, f1_score, recall_score, precision_score\n",
        "def calculate_metrics(y_true, y_preds):\n",
        "  model_results={\"Accuracy\": accuracy_score(y_true, y_preds),\n",
        "                 \"Precision\": precision_score(y_true, y_preds),\n",
        "                 \"Recall\": recall_score(y_true, y_preds),\n",
        "                 \"f1_score\": f1_score(y_true, y_preds),\n",
        "                 }\n",
        "  return model_results"
      ]
    },
    {
      "cell_type": "markdown",
      "metadata": {
        "id": "yZsA8CuMbr0e"
      },
      "source": [
        "#**ML_Approach**"
      ]
    },
    {
      "cell_type": "markdown",
      "metadata": {
        "id": "X-0uRKNTb16l"
      },
      "source": [
        "**Importing dependencies**"
      ]
    },
    {
      "cell_type": "code",
      "execution_count": null,
      "metadata": {
        "id": "RPYmhyfpbxSb"
      },
      "outputs": [],
      "source": [
        "import numpy as np\n",
        "import pandas as pd\n",
        "import re#useful for searching the text in the document\n",
        "from nltk.corpus import stopwords# corpus: body of the particular text,nltk natural language tool kit,the text we are going to work,stopwords are those words which doesnt add value to our paragraph or text(the,an,a,..)\n",
        "from nltk.stem.porter import PorterStemmer#stemming takes the word removes prefix and suffix of the word and returns the root of the word/root word\n",
        "from sklearn.feature_extraction.text import TfidfVectorizer# TfidfVectorizer convert text into feature vectors\n",
        "from sklearn.model_selection import train_test_split # splits train and test data\n",
        "from sklearn.linear_model import LogisticRegression\n",
        "from sklearn.neighbors import KNeighborsClassifier\n",
        "from sklearn import svm\n",
        "from sklearn import tree\n",
        "from sklearn.metrics import accuracy_score"
      ]
    },
    {
      "cell_type": "code",
      "execution_count": null,
      "metadata": {
        "colab": {
          "base_uri": "https://localhost:8080/"
        },
        "id": "enNN3gIocClO",
        "outputId": "efbb1bfa-4d18-4347-a703-36caf42709f6"
      },
      "outputs": [
        {
          "output_type": "stream",
          "name": "stderr",
          "text": [
            "[nltk_data] Downloading package stopwords to /root/nltk_data...\n",
            "[nltk_data]   Unzipping corpora/stopwords.zip.\n"
          ]
        },
        {
          "output_type": "execute_result",
          "data": {
            "text/plain": [
              "True"
            ]
          },
          "metadata": {},
          "execution_count": 8
        }
      ],
      "source": [
        "import nltk\n",
        "nltk.download('stopwords')"
      ]
    },
    {
      "cell_type": "code",
      "execution_count": null,
      "metadata": {
        "id": "G8qxV5gXcDUE"
      },
      "outputs": [],
      "source": [
        "# separating the data & label\n",
        "X = news_dataset.drop(columns='label', axis=1)# axis = 1 represents columns\n",
        "Y = news_dataset['label']"
      ]
    },
    {
      "cell_type": "markdown",
      "metadata": {
        "id": "ymhyv6WCeHgm"
      },
      "source": [
        "Stemming:\n",
        "stemming is the process of reducing a word to its rootword\n",
        "example:\n",
        "actor,actress,acting-->act(rootword)\n",
        "\n",
        "we do this for increasing performance"
      ]
    },
    {
      "cell_type": "code",
      "execution_count": null,
      "metadata": {
        "id": "F1VvHKe5eJaf"
      },
      "outputs": [],
      "source": [
        "port_stem = PorterStemmer()"
      ]
    },
    {
      "cell_type": "code",
      "execution_count": null,
      "metadata": {
        "id": "p7WQFQrFeQ4x"
      },
      "outputs": [],
      "source": [
        "def stemming(content):\n",
        "    stemmed_content = re.sub('[^a-zA-Z]',' ',content)# re :searching paragraph or text, sub :substitute certain values,˄:exclusion (we are taking only alphabets ,excluding other than the  thing which is present in the set) other than alphabets are written as ' '(space)\n",
        "    stemmed_content = stemmed_content.lower()# converting all letters to lower case\n",
        "    stemmed_content = stemmed_content.split()# splitting to converted to list\n",
        "    stemmed_content = [port_stem.stem(word) for word in stemmed_content if not word in stopwords.words('english')] # returning only the rootwords for the words which are not present in the stopwords lib from stemmed content\n",
        "    stemmed_content = ' '.join(stemmed_content)# joining the words\n",
        "    return stemmed_content"
      ]
    },
    {
      "cell_type": "code",
      "execution_count": null,
      "metadata": {
        "id": "0BP0kC_HjhXC"
      },
      "outputs": [],
      "source": [
        "news_dataset['content'] = news_dataset['title']+' '+news_dataset['text']#creating new column called content"
      ]
    },
    {
      "cell_type": "code",
      "execution_count": null,
      "metadata": {
        "id": "zCSPse0ReTGh"
      },
      "outputs": [],
      "source": [
        "news_dataset['content'] = news_dataset['content'].apply(stemming)"
      ]
    },
    {
      "cell_type": "code",
      "execution_count": null,
      "metadata": {
        "id": "NkT3RSjYeVyQ"
      },
      "outputs": [],
      "source": [
        "#separating the data and label\n",
        "X = news_dataset['content'].values\n",
        "Y = news_dataset['label'].values"
      ]
    },
    {
      "cell_type": "code",
      "execution_count": null,
      "metadata": {
        "id": "i2mmxOT3eeGN"
      },
      "outputs": [],
      "source": [
        "# converting the textual data to nummerical data\n",
        "vectorizer = TfidfVectorizer()# term frequency inverse documentary freuency vectorizer , Tf;counts the no. of times the particular word is repeated in the paragraph,idf: finds the repeating words which doesnt add much difference\n",
        "vectorizer.fit(X)\n",
        "\n",
        "X = vectorizer.transform(X)"
      ]
    },
    {
      "cell_type": "markdown",
      "metadata": {
        "id": "TxefbVApeg4E"
      },
      "source": [
        "**Splitting the dataset to training and test data**"
      ]
    },
    {
      "cell_type": "code",
      "execution_count": null,
      "metadata": {
        "id": "KujHBqx_eeuJ"
      },
      "outputs": [],
      "source": [
        "from sklearn.model_selection import train_test_split\n",
        "\n",
        "X_train,X_test,Y_train,Y_test = train_test_split(X,Y,test_size = 0.2,stratify =Y,random_state =2)# stratify segregates real and fake news in same proportion as that of original X,Y;"
      ]
    },
    {
      "cell_type": "markdown",
      "metadata": {
        "id": "v6DMLUiTepiZ"
      },
      "source": [
        "##**Model_LR**"
      ]
    },
    {
      "cell_type": "code",
      "execution_count": null,
      "metadata": {
        "colab": {
          "base_uri": "https://localhost:8080/"
        },
        "id": "TdXofP_semhi",
        "outputId": "96ec9aca-5a32-4934-9829-e0284480c6e9"
      },
      "outputs": [
        {
          "output_type": "execute_result",
          "data": {
            "text/plain": [
              "LogisticRegression()"
            ]
          },
          "metadata": {},
          "execution_count": 17
        }
      ],
      "source": [
        "model_lr = LogisticRegression()\n",
        "model_lr.fit(X_train,Y_train)"
      ]
    },
    {
      "cell_type": "code",
      "execution_count": null,
      "metadata": {
        "colab": {
          "base_uri": "https://localhost:8080/"
        },
        "id": "38tWmUFGe5W9",
        "outputId": "9b77eb6f-b5d0-4314-cf81-3b82389a2d91"
      },
      "outputs": [
        {
          "output_type": "execute_result",
          "data": {
            "text/plain": [
              "{'Accuracy': 0.9486379704720316,\n",
              " 'Precision': 0.943088352348103,\n",
              " 'Recall': 0.9579571486322598,\n",
              " 'f1_score': 0.9504646032488802}"
            ]
          },
          "metadata": {},
          "execution_count": 18
        }
      ],
      "source": [
        "X_test_prediction = model_lr.predict(X_test)\n",
        "model_lr_results=calculate_metrics(Y_test,X_test_prediction)\n",
        "model_lr_results"
      ]
    },
    {
      "cell_type": "markdown",
      "metadata": {
        "id": "f-ztYCIJfJiO"
      },
      "source": [
        "##**Model_KNN**"
      ]
    },
    {
      "cell_type": "code",
      "execution_count": null,
      "metadata": {
        "colab": {
          "base_uri": "https://localhost:8080/"
        },
        "id": "fSpZ3SxqfHBV",
        "outputId": "e992f7be-ed7f-4f5d-c46a-8519193b6a1b"
      },
      "outputs": [
        {
          "output_type": "execute_result",
          "data": {
            "text/plain": [
              "KNeighborsClassifier()"
            ]
          },
          "metadata": {},
          "execution_count": 19
        }
      ],
      "source": [
        "model_kmeans = KNeighborsClassifier()\n",
        "model_kmeans.fit(X_train,Y_train)"
      ]
    },
    {
      "cell_type": "code",
      "execution_count": null,
      "metadata": {
        "colab": {
          "base_uri": "https://localhost:8080/"
        },
        "id": "uLQqf2WdfWeJ",
        "outputId": "e61322f8-2012-42ff-a467-e25f903c1400"
      },
      "outputs": [
        {
          "output_type": "execute_result",
          "data": {
            "text/plain": [
              "{'Accuracy': 0.6894711305191654,\n",
              " 'Precision': 0.6302595446895207,\n",
              " 'Recall': 0.9587656650047164,\n",
              " 'f1_score': 0.760555852485302}"
            ]
          },
          "metadata": {},
          "execution_count": 20
        }
      ],
      "source": [
        "X_test_prediction = model_kmeans.predict(X_test)\n",
        "model_kmeans_results=calculate_metrics(Y_test,X_test_prediction)\n",
        "model_kmeans_results"
      ]
    },
    {
      "cell_type": "markdown",
      "metadata": {
        "id": "r-nSZG8yfif0"
      },
      "source": [
        "##**Model_SVM**"
      ]
    },
    {
      "cell_type": "code",
      "execution_count": null,
      "metadata": {
        "id": "kX8WpBzTf0oT"
      },
      "outputs": [],
      "source": [
        "model_svm = svm.SVC(kernel='linear')\n",
        "model_svm.fit(X_train,Y_train)"
      ]
    },
    {
      "cell_type": "code",
      "execution_count": null,
      "metadata": {
        "id": "89VvsR2wf9BQ"
      },
      "outputs": [],
      "source": [
        "X_test_prediction = model_svm.predict(X_test)\n",
        "model_svm_results=calculate_metrics(Y_test,X_test_prediction)\n",
        "model_svm_results"
      ]
    },
    {
      "cell_type": "markdown",
      "metadata": {
        "id": "-Qm4cVzbgLPt"
      },
      "source": [
        "##**Model_DT**"
      ]
    },
    {
      "cell_type": "code",
      "execution_count": null,
      "metadata": {
        "id": "h05Gr57RgKo-"
      },
      "outputs": [],
      "source": [
        "model_dt= tree.DecisionTreeClassifier(max_depth = 64)\n",
        "model_dt.fit(X_train, Y_train)"
      ]
    },
    {
      "cell_type": "code",
      "execution_count": null,
      "metadata": {
        "id": "ZXG-LriMgkfL"
      },
      "outputs": [],
      "source": [
        "X_test_prediction = model_dt.predict(X_test)\n",
        "model_dt_results=calculate_metrics(Y_test,X_test_prediction)\n",
        "model_dt_results"
      ]
    },
    {
      "cell_type": "markdown",
      "source": [
        "##**Model_XGBOOST**"
      ],
      "metadata": {
        "id": "2iV42uGe2aA3"
      }
    },
    {
      "cell_type": "code",
      "execution_count": null,
      "metadata": {
        "id": "gWW8ndh3nJUr"
      },
      "outputs": [],
      "source": [
        "model_xgboost = XGBClassifier()\n",
        "model_xgboost.fit(X_train, Y_train)"
      ]
    },
    {
      "cell_type": "code",
      "execution_count": null,
      "metadata": {
        "id": "xKHrA3WToIvR"
      },
      "outputs": [],
      "source": [
        "xgboost_test_prediction = model_xgboost.predict(X_test)\n",
        "model_xgboost_results=calculate_metrics(Y_test,xgboost_test_prediction)\n",
        "model_xgboost_results"
      ]
    },
    {
      "cell_type": "markdown",
      "source": [
        "##**Model_LGBM**"
      ],
      "metadata": {
        "id": "2ARlHzmv2jyH"
      }
    },
    {
      "cell_type": "code",
      "execution_count": null,
      "metadata": {
        "id": "NQsLDgn8vgzX"
      },
      "outputs": [],
      "source": [
        "model_lgbm = LGBMClassifier()\n",
        "model_lgbm.fit(X_train, Y_train)"
      ]
    },
    {
      "cell_type": "code",
      "execution_count": null,
      "metadata": {
        "id": "x8iv_ejqvwuh"
      },
      "outputs": [],
      "source": [
        "lgbm_test_prediction = model_lgbm.predict(X_test)\n",
        "model_lgbm_results=calculate_metrics(Y_test,lgbm_test_prediction)\n",
        "model_lgbm_results"
      ]
    },
    {
      "cell_type": "markdown",
      "source": [
        "##**Model_RF**"
      ],
      "metadata": {
        "id": "AMSBHsI12w4q"
      }
    },
    {
      "cell_type": "code",
      "execution_count": null,
      "metadata": {
        "id": "awf1P1fsbbBI"
      },
      "outputs": [],
      "source": [
        "model_rf = RandomForestClassifier(n_estimators= 10, criterion=\"entropy\")\n",
        "model_rf.fit(X_train,Y_train)"
      ]
    },
    {
      "cell_type": "code",
      "execution_count": null,
      "metadata": {
        "id": "atdmMOQtbtGX"
      },
      "outputs": [],
      "source": [
        "rf_test_prediction = model_rf.predict(X_test)\n",
        "model_rf_results=calculate_metrics(Y_test,rf_test_prediction)\n",
        "model_rf_results"
      ]
    },
    {
      "cell_type": "markdown",
      "source": [
        "##**Model_Ensemble**"
      ],
      "metadata": {
        "id": "8TTQDM1p29RQ"
      }
    },
    {
      "cell_type": "code",
      "source": [
        "def ensemble(predictions):\n",
        "  return np.mean(predictions, axis=0)"
      ],
      "metadata": {
        "id": "wQ4vIQQtibRr"
      },
      "execution_count": null,
      "outputs": []
    },
    {
      "cell_type": "code",
      "source": [
        "predictions = [lr_test_prediction,knn_test_prediction,svm_test_prediction,dt_test_prediction,xgboost_test_prediction,lgbm_test_prediction,rf_test_prediction]\n",
        "ensemble_test_prediction = ensemble(predictions)"
      ],
      "metadata": {
        "id": "DYiCgDuumE6x"
      },
      "execution_count": null,
      "outputs": []
    },
    {
      "cell_type": "code",
      "execution_count": null,
      "metadata": {
        "id": "tKYldNHajNyT"
      },
      "outputs": [],
      "source": [
        "ensemble_test_prediction  = np.where(ensemble_test_prediction>=0.5,1,0)\n",
        "model_ensemble_results=calculate_metrics(Y_test,ensemble_test_prediction)\n",
        "model_ensemble_results"
      ]
    },
    {
      "cell_type": "markdown",
      "metadata": {
        "id": "lk4kabOmhNqK"
      },
      "source": [
        "##**Conclusion**"
      ]
    },
    {
      "cell_type": "code",
      "execution_count": null,
      "metadata": {
        "id": "zaiBUTg8hV-W"
      },
      "outputs": [],
      "source": [
        "results_df= pd.DataFrame({\"model_LR\": model_lr_results,\n",
        "                          \"model_KNN\": model_knn_results,\n",
        "                          \"model_SVM\": model_svm_results,\n",
        "                          \"model_DT\": model_dt_results,\n",
        "                          \"model_XGBOOST\": model_xgboost_results,\n",
        "                          \"model_LGBM\": model_lgbm_results,\n",
        "                          \"model_RF\": model_rf_results,\n",
        "                          \"model_ENSEMBLE\": model_ensemble_results}).T\n",
        "\n",
        "results_df"
      ]
    },
    {
      "cell_type": "code",
      "execution_count": null,
      "metadata": {
        "id": "4Mo45Krlh2DQ"
      },
      "outputs": [],
      "source": [
        "results_df.plot(kind=\"bar\", title=\"Machine Learning Approach\").legend(bbox_to_anchor=(1,1));"
      ]
    },
    {
      "cell_type": "markdown",
      "metadata": {
        "id": "JMqvhXiIbm2a"
      },
      "source": [
        "#**DL_Aproach**"
      ]
    },
    {
      "cell_type": "code",
      "execution_count": null,
      "metadata": {
        "id": "KTuANQrz_rEb"
      },
      "outputs": [],
      "source": [
        "import tensorflow as tf\n",
        "import numpy as np"
      ]
    },
    {
      "cell_type": "code",
      "source": [
        "country_no=train_df.Country.unique()\n",
        "country=train_df.Country\n",
        "print(len(country_no)) #193 unique countries"
      ],
      "metadata": {
        "colab": {
          "base_uri": "https://localhost:8080/"
        },
        "id": "3jQMBNG1oSgB",
        "outputId": "4fcb1384-325b-4431-ef2b-5a95f2f38f2c"
      },
      "execution_count": null,
      "outputs": [
        {
          "output_type": "stream",
          "name": "stdout",
          "text": [
            "193\n"
          ]
        }
      ]
    },
    {
      "cell_type": "code",
      "source": [
        "from sklearn import preprocessing\n",
        "\n",
        "# label_encoder object knows how to understand word labels.\n",
        "label_encoder = preprocessing.LabelEncoder()\n",
        "\n",
        "# Encode labels in column 'Country'.\n",
        "train_df['Country']= label_encoder.fit_transform(train_df['Country'])\n",
        "train_df['Status']= label_encoder.fit_transform(train_df['Status'])\n"
      ],
      "metadata": {
        "id": "E3d4FhdVo4pR"
      },
      "execution_count": null,
      "outputs": []
    },
    {
      "cell_type": "code",
      "source": [
        "train_df"
      ],
      "metadata": {
        "colab": {
          "base_uri": "https://localhost:8080/",
          "height": 505
        },
        "id": "TgnaXBaWpvOH",
        "outputId": "74f9622b-47f2-43bb-b396-f58080703007"
      },
      "execution_count": null,
      "outputs": [
        {
          "output_type": "execute_result",
          "data": {
            "text/plain": [
              "      Unnamed: 0  Country  Year  Status  Power Level  Civilian Deaths  \\\n",
              "0              1        0  2022       1        59.73            271.0   \n",
              "1              2        0  2021       1        60.50            268.0   \n",
              "2              3        0  2020       1        60.09            271.0   \n",
              "3              4        0  2019       1        58.88            279.0   \n",
              "4              5        0  2018       1        59.26            272.0   \n",
              "...          ...      ...   ...     ...          ...              ...   \n",
              "2750        2933      192  2012       1        44.11            721.0   \n",
              "2751        2934      192  2011       1        44.42            720.0   \n",
              "2752        2935      192  2010       1        45.22             75.0   \n",
              "2753        2936      192  2009       1        45.72            686.0   \n",
              "2754        2937      192  2008       1        45.63            662.0   \n",
              "\n",
              "      Military Accidents  Substance Abuse  Military Investment  Air Force  \\\n",
              "0                     62            -0.25                73.83       59.0   \n",
              "1                     66            -0.67                73.66       71.0   \n",
              "2                     70            -0.17                77.76       65.0   \n",
              "3                     70             0.69                 6.95       72.0   \n",
              "4                     74             0.07                79.82       70.0   \n",
              "...                  ...              ...                  ...        ...   \n",
              "2750                  29             4.37                -0.29       68.0   \n",
              "2751                  27             3.58                -0.43        8.0   \n",
              "2752                  25             3.89                -1.33       76.0   \n",
              "2753                  24             1.33                 0.16       68.0   \n",
              "2754                  23             1.33                 0.56       79.0   \n",
              "\n",
              "      ...  Submarines  Educational Investment  Literacy  Revolts     GDP  \\\n",
              "0     ...        58.0                    8.06      62.0    -0.21  612.86   \n",
              "1     ...        60.0                    8.08      65.0    -0.04  631.58   \n",
              "2     ...        65.0                    8.71      70.0    -0.21  669.50   \n",
              "3     ...        65.0                    8.34      72.0    -0.60   63.67   \n",
              "4     ...        67.0                    9.40      66.0    -0.12  553.89   \n",
              "...   ...         ...                     ...       ...      ...     ...   \n",
              "2750  ...        66.0                    7.04      62.0    34.62  454.15   \n",
              "2751  ...         8.0                    6.33      70.0    37.70  453.82   \n",
              "2752  ...        74.0                    6.63      71.0    40.36   57.22   \n",
              "2753  ...        75.0                    6.75      75.0    41.58  548.08   \n",
              "2754  ...        76.0                    7.53      77.0    43.73  547.52   \n",
              "\n",
              "      Population  Offense  Defense  Political Stability  \\\n",
              "0       327582.0    17.16    17.68                 0.44   \n",
              "1     31731688.0    18.28    17.85                 0.72   \n",
              "2      3696953.0    16.85    18.46                 0.99   \n",
              "3      2978596.0    17.72    18.11                 0.84   \n",
              "4      2883166.0    18.91    18.76                 0.52   \n",
              "...          ...      ...      ...                  ...   \n",
              "2750  12777508.0     9.01    10.22                 0.15   \n",
              "2751  12633894.0     9.80     9.64                -0.19   \n",
              "2752    125524.0     1.06     1.49                -0.04   \n",
              "2753  12366171.0     2.12     1.91                -0.15   \n",
              "2754  12222253.0    10.39    10.71                 0.26   \n",
              "\n",
              "      International Reputation  \n",
              "0                        10.57  \n",
              "1                        10.40  \n",
              "2                         9.52  \n",
              "3                         9.82  \n",
              "4                         9.14  \n",
              "...                        ...  \n",
              "2750                      9.89  \n",
              "2751                      9.68  \n",
              "2752                     10.91  \n",
              "2753                      9.83  \n",
              "2754                      9.85  \n",
              "\n",
              "[2755 rows x 23 columns]"
            ],
            "text/html": [
              "\n",
              "  <div id=\"df-00c04141-58c3-4c8c-93f2-7eb416f6e193\">\n",
              "    <div class=\"colab-df-container\">\n",
              "      <div>\n",
              "<style scoped>\n",
              "    .dataframe tbody tr th:only-of-type {\n",
              "        vertical-align: middle;\n",
              "    }\n",
              "\n",
              "    .dataframe tbody tr th {\n",
              "        vertical-align: top;\n",
              "    }\n",
              "\n",
              "    .dataframe thead th {\n",
              "        text-align: right;\n",
              "    }\n",
              "</style>\n",
              "<table border=\"1\" class=\"dataframe\">\n",
              "  <thead>\n",
              "    <tr style=\"text-align: right;\">\n",
              "      <th></th>\n",
              "      <th>Unnamed: 0</th>\n",
              "      <th>Country</th>\n",
              "      <th>Year</th>\n",
              "      <th>Status</th>\n",
              "      <th>Power Level</th>\n",
              "      <th>Civilian Deaths</th>\n",
              "      <th>Military Accidents</th>\n",
              "      <th>Substance Abuse</th>\n",
              "      <th>Military Investment</th>\n",
              "      <th>Air Force</th>\n",
              "      <th>...</th>\n",
              "      <th>Submarines</th>\n",
              "      <th>Educational Investment</th>\n",
              "      <th>Literacy</th>\n",
              "      <th>Revolts</th>\n",
              "      <th>GDP</th>\n",
              "      <th>Population</th>\n",
              "      <th>Offense</th>\n",
              "      <th>Defense</th>\n",
              "      <th>Political Stability</th>\n",
              "      <th>International Reputation</th>\n",
              "    </tr>\n",
              "  </thead>\n",
              "  <tbody>\n",
              "    <tr>\n",
              "      <th>0</th>\n",
              "      <td>1</td>\n",
              "      <td>0</td>\n",
              "      <td>2022</td>\n",
              "      <td>1</td>\n",
              "      <td>59.73</td>\n",
              "      <td>271.0</td>\n",
              "      <td>62</td>\n",
              "      <td>-0.25</td>\n",
              "      <td>73.83</td>\n",
              "      <td>59.0</td>\n",
              "      <td>...</td>\n",
              "      <td>58.0</td>\n",
              "      <td>8.06</td>\n",
              "      <td>62.0</td>\n",
              "      <td>-0.21</td>\n",
              "      <td>612.86</td>\n",
              "      <td>327582.0</td>\n",
              "      <td>17.16</td>\n",
              "      <td>17.68</td>\n",
              "      <td>0.44</td>\n",
              "      <td>10.57</td>\n",
              "    </tr>\n",
              "    <tr>\n",
              "      <th>1</th>\n",
              "      <td>2</td>\n",
              "      <td>0</td>\n",
              "      <td>2021</td>\n",
              "      <td>1</td>\n",
              "      <td>60.50</td>\n",
              "      <td>268.0</td>\n",
              "      <td>66</td>\n",
              "      <td>-0.67</td>\n",
              "      <td>73.66</td>\n",
              "      <td>71.0</td>\n",
              "      <td>...</td>\n",
              "      <td>60.0</td>\n",
              "      <td>8.08</td>\n",
              "      <td>65.0</td>\n",
              "      <td>-0.04</td>\n",
              "      <td>631.58</td>\n",
              "      <td>31731688.0</td>\n",
              "      <td>18.28</td>\n",
              "      <td>17.85</td>\n",
              "      <td>0.72</td>\n",
              "      <td>10.40</td>\n",
              "    </tr>\n",
              "    <tr>\n",
              "      <th>2</th>\n",
              "      <td>3</td>\n",
              "      <td>0</td>\n",
              "      <td>2020</td>\n",
              "      <td>1</td>\n",
              "      <td>60.09</td>\n",
              "      <td>271.0</td>\n",
              "      <td>70</td>\n",
              "      <td>-0.17</td>\n",
              "      <td>77.76</td>\n",
              "      <td>65.0</td>\n",
              "      <td>...</td>\n",
              "      <td>65.0</td>\n",
              "      <td>8.71</td>\n",
              "      <td>70.0</td>\n",
              "      <td>-0.21</td>\n",
              "      <td>669.50</td>\n",
              "      <td>3696953.0</td>\n",
              "      <td>16.85</td>\n",
              "      <td>18.46</td>\n",
              "      <td>0.99</td>\n",
              "      <td>9.52</td>\n",
              "    </tr>\n",
              "    <tr>\n",
              "      <th>3</th>\n",
              "      <td>4</td>\n",
              "      <td>0</td>\n",
              "      <td>2019</td>\n",
              "      <td>1</td>\n",
              "      <td>58.88</td>\n",
              "      <td>279.0</td>\n",
              "      <td>70</td>\n",
              "      <td>0.69</td>\n",
              "      <td>6.95</td>\n",
              "      <td>72.0</td>\n",
              "      <td>...</td>\n",
              "      <td>65.0</td>\n",
              "      <td>8.34</td>\n",
              "      <td>72.0</td>\n",
              "      <td>-0.60</td>\n",
              "      <td>63.67</td>\n",
              "      <td>2978596.0</td>\n",
              "      <td>17.72</td>\n",
              "      <td>18.11</td>\n",
              "      <td>0.84</td>\n",
              "      <td>9.82</td>\n",
              "    </tr>\n",
              "    <tr>\n",
              "      <th>4</th>\n",
              "      <td>5</td>\n",
              "      <td>0</td>\n",
              "      <td>2018</td>\n",
              "      <td>1</td>\n",
              "      <td>59.26</td>\n",
              "      <td>272.0</td>\n",
              "      <td>74</td>\n",
              "      <td>0.07</td>\n",
              "      <td>79.82</td>\n",
              "      <td>70.0</td>\n",
              "      <td>...</td>\n",
              "      <td>67.0</td>\n",
              "      <td>9.40</td>\n",
              "      <td>66.0</td>\n",
              "      <td>-0.12</td>\n",
              "      <td>553.89</td>\n",
              "      <td>2883166.0</td>\n",
              "      <td>18.91</td>\n",
              "      <td>18.76</td>\n",
              "      <td>0.52</td>\n",
              "      <td>9.14</td>\n",
              "    </tr>\n",
              "    <tr>\n",
              "      <th>...</th>\n",
              "      <td>...</td>\n",
              "      <td>...</td>\n",
              "      <td>...</td>\n",
              "      <td>...</td>\n",
              "      <td>...</td>\n",
              "      <td>...</td>\n",
              "      <td>...</td>\n",
              "      <td>...</td>\n",
              "      <td>...</td>\n",
              "      <td>...</td>\n",
              "      <td>...</td>\n",
              "      <td>...</td>\n",
              "      <td>...</td>\n",
              "      <td>...</td>\n",
              "      <td>...</td>\n",
              "      <td>...</td>\n",
              "      <td>...</td>\n",
              "      <td>...</td>\n",
              "      <td>...</td>\n",
              "      <td>...</td>\n",
              "      <td>...</td>\n",
              "    </tr>\n",
              "    <tr>\n",
              "      <th>2750</th>\n",
              "      <td>2933</td>\n",
              "      <td>192</td>\n",
              "      <td>2012</td>\n",
              "      <td>1</td>\n",
              "      <td>44.11</td>\n",
              "      <td>721.0</td>\n",
              "      <td>29</td>\n",
              "      <td>4.37</td>\n",
              "      <td>-0.29</td>\n",
              "      <td>68.0</td>\n",
              "      <td>...</td>\n",
              "      <td>66.0</td>\n",
              "      <td>7.04</td>\n",
              "      <td>62.0</td>\n",
              "      <td>34.62</td>\n",
              "      <td>454.15</td>\n",
              "      <td>12777508.0</td>\n",
              "      <td>9.01</td>\n",
              "      <td>10.22</td>\n",
              "      <td>0.15</td>\n",
              "      <td>9.89</td>\n",
              "    </tr>\n",
              "    <tr>\n",
              "      <th>2751</th>\n",
              "      <td>2934</td>\n",
              "      <td>192</td>\n",
              "      <td>2011</td>\n",
              "      <td>1</td>\n",
              "      <td>44.42</td>\n",
              "      <td>720.0</td>\n",
              "      <td>27</td>\n",
              "      <td>3.58</td>\n",
              "      <td>-0.43</td>\n",
              "      <td>8.0</td>\n",
              "      <td>...</td>\n",
              "      <td>8.0</td>\n",
              "      <td>6.33</td>\n",
              "      <td>70.0</td>\n",
              "      <td>37.70</td>\n",
              "      <td>453.82</td>\n",
              "      <td>12633894.0</td>\n",
              "      <td>9.80</td>\n",
              "      <td>9.64</td>\n",
              "      <td>-0.19</td>\n",
              "      <td>9.68</td>\n",
              "    </tr>\n",
              "    <tr>\n",
              "      <th>2752</th>\n",
              "      <td>2935</td>\n",
              "      <td>192</td>\n",
              "      <td>2010</td>\n",
              "      <td>1</td>\n",
              "      <td>45.22</td>\n",
              "      <td>75.0</td>\n",
              "      <td>25</td>\n",
              "      <td>3.89</td>\n",
              "      <td>-1.33</td>\n",
              "      <td>76.0</td>\n",
              "      <td>...</td>\n",
              "      <td>74.0</td>\n",
              "      <td>6.63</td>\n",
              "      <td>71.0</td>\n",
              "      <td>40.36</td>\n",
              "      <td>57.22</td>\n",
              "      <td>125524.0</td>\n",
              "      <td>1.06</td>\n",
              "      <td>1.49</td>\n",
              "      <td>-0.04</td>\n",
              "      <td>10.91</td>\n",
              "    </tr>\n",
              "    <tr>\n",
              "      <th>2753</th>\n",
              "      <td>2936</td>\n",
              "      <td>192</td>\n",
              "      <td>2009</td>\n",
              "      <td>1</td>\n",
              "      <td>45.72</td>\n",
              "      <td>686.0</td>\n",
              "      <td>24</td>\n",
              "      <td>1.33</td>\n",
              "      <td>0.16</td>\n",
              "      <td>68.0</td>\n",
              "      <td>...</td>\n",
              "      <td>75.0</td>\n",
              "      <td>6.75</td>\n",
              "      <td>75.0</td>\n",
              "      <td>41.58</td>\n",
              "      <td>548.08</td>\n",
              "      <td>12366171.0</td>\n",
              "      <td>2.12</td>\n",
              "      <td>1.91</td>\n",
              "      <td>-0.15</td>\n",
              "      <td>9.83</td>\n",
              "    </tr>\n",
              "    <tr>\n",
              "      <th>2754</th>\n",
              "      <td>2937</td>\n",
              "      <td>192</td>\n",
              "      <td>2008</td>\n",
              "      <td>1</td>\n",
              "      <td>45.63</td>\n",
              "      <td>662.0</td>\n",
              "      <td>23</td>\n",
              "      <td>1.33</td>\n",
              "      <td>0.56</td>\n",
              "      <td>79.0</td>\n",
              "      <td>...</td>\n",
              "      <td>76.0</td>\n",
              "      <td>7.53</td>\n",
              "      <td>77.0</td>\n",
              "      <td>43.73</td>\n",
              "      <td>547.52</td>\n",
              "      <td>12222253.0</td>\n",
              "      <td>10.39</td>\n",
              "      <td>10.71</td>\n",
              "      <td>0.26</td>\n",
              "      <td>9.85</td>\n",
              "    </tr>\n",
              "  </tbody>\n",
              "</table>\n",
              "<p>2755 rows × 23 columns</p>\n",
              "</div>\n",
              "      <button class=\"colab-df-convert\" onclick=\"convertToInteractive('df-00c04141-58c3-4c8c-93f2-7eb416f6e193')\"\n",
              "              title=\"Convert this dataframe to an interactive table.\"\n",
              "              style=\"display:none;\">\n",
              "        \n",
              "  <svg xmlns=\"http://www.w3.org/2000/svg\" height=\"24px\"viewBox=\"0 0 24 24\"\n",
              "       width=\"24px\">\n",
              "    <path d=\"M0 0h24v24H0V0z\" fill=\"none\"/>\n",
              "    <path d=\"M18.56 5.44l.94 2.06.94-2.06 2.06-.94-2.06-.94-.94-2.06-.94 2.06-2.06.94zm-11 1L8.5 8.5l.94-2.06 2.06-.94-2.06-.94L8.5 2.5l-.94 2.06-2.06.94zm10 10l.94 2.06.94-2.06 2.06-.94-2.06-.94-.94-2.06-.94 2.06-2.06.94z\"/><path d=\"M17.41 7.96l-1.37-1.37c-.4-.4-.92-.59-1.43-.59-.52 0-1.04.2-1.43.59L10.3 9.45l-7.72 7.72c-.78.78-.78 2.05 0 2.83L4 21.41c.39.39.9.59 1.41.59.51 0 1.02-.2 1.41-.59l7.78-7.78 2.81-2.81c.8-.78.8-2.07 0-2.86zM5.41 20L4 18.59l7.72-7.72 1.47 1.35L5.41 20z\"/>\n",
              "  </svg>\n",
              "      </button>\n",
              "      \n",
              "  <style>\n",
              "    .colab-df-container {\n",
              "      display:flex;\n",
              "      flex-wrap:wrap;\n",
              "      gap: 12px;\n",
              "    }\n",
              "\n",
              "    .colab-df-convert {\n",
              "      background-color: #E8F0FE;\n",
              "      border: none;\n",
              "      border-radius: 50%;\n",
              "      cursor: pointer;\n",
              "      display: none;\n",
              "      fill: #1967D2;\n",
              "      height: 32px;\n",
              "      padding: 0 0 0 0;\n",
              "      width: 32px;\n",
              "    }\n",
              "\n",
              "    .colab-df-convert:hover {\n",
              "      background-color: #E2EBFA;\n",
              "      box-shadow: 0px 1px 2px rgba(60, 64, 67, 0.3), 0px 1px 3px 1px rgba(60, 64, 67, 0.15);\n",
              "      fill: #174EA6;\n",
              "    }\n",
              "\n",
              "    [theme=dark] .colab-df-convert {\n",
              "      background-color: #3B4455;\n",
              "      fill: #D2E3FC;\n",
              "    }\n",
              "\n",
              "    [theme=dark] .colab-df-convert:hover {\n",
              "      background-color: #434B5C;\n",
              "      box-shadow: 0px 1px 3px 1px rgba(0, 0, 0, 0.15);\n",
              "      filter: drop-shadow(0px 1px 2px rgba(0, 0, 0, 0.3));\n",
              "      fill: #FFFFFF;\n",
              "    }\n",
              "  </style>\n",
              "\n",
              "      <script>\n",
              "        const buttonEl =\n",
              "          document.querySelector('#df-00c04141-58c3-4c8c-93f2-7eb416f6e193 button.colab-df-convert');\n",
              "        buttonEl.style.display =\n",
              "          google.colab.kernel.accessAllowed ? 'block' : 'none';\n",
              "\n",
              "        async function convertToInteractive(key) {\n",
              "          const element = document.querySelector('#df-00c04141-58c3-4c8c-93f2-7eb416f6e193');\n",
              "          const dataTable =\n",
              "            await google.colab.kernel.invokeFunction('convertToInteractive',\n",
              "                                                     [key], {});\n",
              "          if (!dataTable) return;\n",
              "\n",
              "          const docLinkHtml = 'Like what you see? Visit the ' +\n",
              "            '<a target=\"_blank\" href=https://colab.research.google.com/notebooks/data_table.ipynb>data table notebook</a>'\n",
              "            + ' to learn more about interactive tables.';\n",
              "          element.innerHTML = '';\n",
              "          dataTable['output_type'] = 'display_data';\n",
              "          await google.colab.output.renderOutput(dataTable, element);\n",
              "          const docLink = document.createElement('div');\n",
              "          docLink.innerHTML = docLinkHtml;\n",
              "          element.appendChild(docLink);\n",
              "        }\n",
              "      </script>\n",
              "    </div>\n",
              "  </div>\n",
              "  "
            ]
          },
          "metadata": {},
          "execution_count": 30
        }
      ]
    },
    {
      "cell_type": "markdown",
      "metadata": {
        "id": "5wvxPagV-9FX"
      },
      "source": [
        "##**Model_1**:MLP"
      ]
    },
    {
      "cell_type": "code",
      "execution_count": null,
      "metadata": {
        "id": "22U7nMvKcgYq",
        "colab": {
          "base_uri": "https://localhost:8080/"
        },
        "outputId": "b55a6f06-2b11-4007-edc4-355b56c359a5"
      },
      "outputs": [
        {
          "output_type": "execute_result",
          "data": {
            "text/plain": [
              "1    37106\n",
              "0    35028\n",
              "Name: label, dtype: int64"
            ]
          },
          "metadata": {},
          "execution_count": 10
        }
      ],
      "source": [
        "news_dataset.label.value_counts() #balanced dataset"
      ]
    },
    {
      "cell_type": "code",
      "execution_count": null,
      "metadata": {
        "id": "QojwPj0o5kke",
        "colab": {
          "base_uri": "https://localhost:8080/"
        },
        "outputId": "ff9d2b99-1461-4d4e-de3f-920ad206be8f"
      },
      "outputs": [
        {
          "output_type": "execute_result",
          "data": {
            "text/plain": [
              "(2755, 2755)"
            ]
          },
          "metadata": {},
          "execution_count": 31
        }
      ],
      "source": [
        "data= train_df.drop(\"Power Level\", axis=1)\n",
        "labels=train_df[\"Power Level\"]\n",
        "\n",
        "len(data), len(labels)"
      ]
    },
    {
      "cell_type": "code",
      "source": [
        "labels"
      ],
      "metadata": {
        "colab": {
          "base_uri": "https://localhost:8080/"
        },
        "id": "-SflIJ-PtkOZ",
        "outputId": "b9a262fc-cfd4-41eb-b25d-4ca946e88fc4"
      },
      "execution_count": null,
      "outputs": [
        {
          "output_type": "execute_result",
          "data": {
            "text/plain": [
              "0       59.73\n",
              "1       60.50\n",
              "2       60.09\n",
              "3       58.88\n",
              "4       59.26\n",
              "        ...  \n",
              "2750    44.11\n",
              "2751    44.42\n",
              "2752    45.22\n",
              "2753    45.72\n",
              "2754    45.63\n",
              "Name: Power Level, Length: 2755, dtype: float64"
            ]
          },
          "metadata": {},
          "execution_count": 49
        }
      ]
    },
    {
      "cell_type": "code",
      "source": [
        "# model_1=tf.keras.Sequential([tf.keras.layers.Dense(64, activation=\"relu\"),\n",
        "#                              tf.keras.layers.Dense(32, activation=\"relu\"),\n",
        "#                              tf.keras.layers.Dense(1, activation=\"linear\")])\n",
        "\n",
        "model_1 = tf.keras.Sequential([tf.keras.layers.Dense(64, activation=\"relu\"),\n",
        "                             tf.keras.layers.Dense(32, activation=\"relu\"),\n",
        "                             tf.keras.layers.Dense(1, activation=\"linear\")])\n",
        "model_1.compile(loss=\"mae\",\n",
        "                  optimizer=tf.keras.optimizers.Adam(),\n",
        "                  metrics=[\"mae\"])"
      ],
      "metadata": {
        "id": "iHM4ict4sq42"
      },
      "execution_count": null,
      "outputs": []
    },
    {
      "cell_type": "code",
      "execution_count": null,
      "metadata": {
        "id": "FyXLMoKy8hep",
        "colab": {
          "base_uri": "https://localhost:8080/",
          "height": 287
        },
        "outputId": "511a5d61-fb9c-4f71-d39e-b7d08b95d911"
      },
      "outputs": [
        {
          "output_type": "error",
          "ename": "ValueError",
          "evalue": "ignored",
          "traceback": [
            "\u001b[0;31m---------------------------------------------------------------------------\u001b[0m",
            "\u001b[0;31mValueError\u001b[0m                                Traceback (most recent call last)",
            "\u001b[0;32m<ipython-input-63-38d62e0e91d7>\u001b[0m in \u001b[0;36m<module>\u001b[0;34m\u001b[0m\n\u001b[0;32m----> 1\u001b[0;31m \u001b[0mmodel_1\u001b[0m\u001b[0;34m.\u001b[0m\u001b[0msummary\u001b[0m\u001b[0;34m(\u001b[0m\u001b[0;34m)\u001b[0m\u001b[0;34m\u001b[0m\u001b[0;34m\u001b[0m\u001b[0m\n\u001b[0m",
            "\u001b[0;32m/usr/local/lib/python3.8/dist-packages/keras/engine/training.py\u001b[0m in \u001b[0;36msummary\u001b[0;34m(self, line_length, positions, print_fn, expand_nested, show_trainable, layer_range)\u001b[0m\n\u001b[1;32m   3290\u001b[0m         \"\"\"\n\u001b[1;32m   3291\u001b[0m         \u001b[0;32mif\u001b[0m \u001b[0;32mnot\u001b[0m \u001b[0mself\u001b[0m\u001b[0;34m.\u001b[0m\u001b[0mbuilt\u001b[0m\u001b[0;34m:\u001b[0m\u001b[0;34m\u001b[0m\u001b[0;34m\u001b[0m\u001b[0m\n\u001b[0;32m-> 3292\u001b[0;31m             raise ValueError(\n\u001b[0m\u001b[1;32m   3293\u001b[0m                 \u001b[0;34m\"This model has not yet been built. \"\u001b[0m\u001b[0;34m\u001b[0m\u001b[0;34m\u001b[0m\u001b[0m\n\u001b[1;32m   3294\u001b[0m                 \u001b[0;34m\"Build the model first by calling `build()` or by calling \"\u001b[0m\u001b[0;34m\u001b[0m\u001b[0;34m\u001b[0m\u001b[0m\n",
            "\u001b[0;31mValueError\u001b[0m: This model has not yet been built. Build the model first by calling `build()` or by calling the model on a batch of data."
          ]
        }
      ],
      "source": [
        "model_1.summary()"
      ]
    },
    {
      "cell_type": "markdown",
      "metadata": {
        "id": "yh6ZBuUspbkB"
      },
      "source": [
        "**Splitting the data and fastening the load time**"
      ]
    },
    {
      "cell_type": "code",
      "execution_count": null,
      "metadata": {
        "id": "q8YkGKCJ8qu_"
      },
      "outputs": [],
      "source": [
        "from sklearn.model_selection import train_test_split\n",
        "\n",
        "train_data, test_data, train_labels, test_labels= train_test_split(data, labels)\n",
        "\n",
        "train_dataset=tf.data.Dataset.from_tensor_slices((train_data, train_labels)).batch(32).prefetch(tf.data.AUTOTUNE)\n",
        "test_dataset=tf.data.Dataset.from_tensor_slices((test_data, test_labels)).batch(32).prefetch(tf.data.AUTOTUNE)"
      ]
    },
    {
      "cell_type": "code",
      "execution_count": null,
      "metadata": {
        "id": "bR-ybyiVdiLg",
        "colab": {
          "base_uri": "https://localhost:8080/"
        },
        "outputId": "6a21317a-715b-46ef-a921-af3bd1200026"
      },
      "outputs": [
        {
          "output_type": "execute_result",
          "data": {
            "text/plain": [
              "<PrefetchDataset element_spec=(TensorSpec(shape=(None, 22), dtype=tf.float64, name=None), TensorSpec(shape=(None,), dtype=tf.float64, name=None))>"
            ]
          },
          "metadata": {},
          "execution_count": 60
        }
      ],
      "source": [
        "train_dataset"
      ]
    },
    {
      "cell_type": "code",
      "execution_count": null,
      "metadata": {
        "id": "y9HcJ8WnAUIG",
        "colab": {
          "base_uri": "https://localhost:8080/"
        },
        "outputId": "24f4245b-236d-4588-a056-a0fb058d42ea"
      },
      "outputs": [
        {
          "output_type": "stream",
          "name": "stdout",
          "text": [
            "Epoch 1/5\n",
            "65/65 [==============================] - 1s 6ms/step - loss: nan - mae: nan - val_loss: nan - val_mae: nan\n",
            "Epoch 2/5\n",
            "65/65 [==============================] - 0s 4ms/step - loss: nan - mae: nan - val_loss: nan - val_mae: nan\n",
            "Epoch 3/5\n",
            "65/65 [==============================] - 0s 4ms/step - loss: nan - mae: nan - val_loss: nan - val_mae: nan\n",
            "Epoch 4/5\n",
            "65/65 [==============================] - 0s 4ms/step - loss: nan - mae: nan - val_loss: nan - val_mae: nan\n",
            "Epoch 5/5\n",
            "65/65 [==============================] - 0s 4ms/step - loss: nan - mae: nan - val_loss: nan - val_mae: nan\n"
          ]
        }
      ],
      "source": [
        "history_1=model_1.fit(train_data, train_labels,\n",
        "                      epochs=5,\n",
        "                      # callbacks=[tf.keras.callbacks.EarlyStopping(monitor=\"val_accuracy\", patience=2, restore_best_weights=True),\n",
        "                      #            tf.keras.callbacks.ReduceLROnPlateau(monitor=\"val_accuracy\", patience=1),\n",
        "                      #            tf.keras.callbacks.TensorBoard(log_dir=\"tensorboard/model_MLP\")],\n",
        "                      validation_data=(test_data, test_labels))"
      ]
    },
    {
      "cell_type": "markdown",
      "metadata": {
        "id": "leXoHhAxtYCp"
      },
      "source": [
        "**Loss curves**"
      ]
    },
    {
      "cell_type": "code",
      "execution_count": null,
      "metadata": {
        "id": "UHw0tNDrtXds",
        "colab": {
          "base_uri": "https://localhost:8080/",
          "height": 265
        },
        "outputId": "262845e5-0251-4272-eff8-8f716685e5d4"
      },
      "outputs": [
        {
          "output_type": "display_data",
          "data": {
            "text/plain": [
              "<Figure size 432x288 with 1 Axes>"
            ],
            "image/png": "[encoded data removed]"
          },
          "metadata": {
            "needs_background": "light"
          }
        }
      ],
      "source": [
        "pd.DataFrame(history_1.history).plot();"
      ]
    },
    {
      "cell_type": "code",
      "execution_count": null,
      "metadata": {
        "id": "xPIy8G-L8Cwf",
        "colab": {
          "base_uri": "https://localhost:8080/"
        },
        "outputId": "6d711a7a-cfa7-4794-8aec-204011677d0c"
      },
      "outputs": [
        {
          "output_type": "stream",
          "name": "stdout",
          "text": [
            "564/564 [==============================] - 4s 6ms/step\n"
          ]
        }
      ],
      "source": [
        "y_preds=model_1.predict(test_dataset)\n",
        "model_1_results= calculate_metrics(test_labels, y_preds.round().squeeze())"
      ]
    },
    {
      "cell_type": "code",
      "execution_count": null,
      "metadata": {
        "id": "2UdhMzOI8osr",
        "colab": {
          "base_uri": "https://localhost:8080/"
        },
        "outputId": "4d477f3c-9a67-4536-a634-30d0f3b101c5"
      },
      "outputs": [
        {
          "output_type": "execute_result",
          "data": {
            "text/plain": [
              "{'Accuracy': 0.9797604524786514,\n",
              " 'Precision': 0.980151024811219,\n",
              " 'Recall': 0.9804683284773928,\n",
              " 'f1_score': 0.9803096509683336}"
            ]
          },
          "metadata": {},
          "execution_count": 22
        }
      ],
      "source": [
        "model_1_results"
      ]
    },
    {
      "cell_type": "markdown",
      "metadata": {
        "id": "Zr-U9Jmrr4IB"
      },
      "source": [
        "##**Model_2**:CNN"
      ]
    },
    {
      "cell_type": "code",
      "execution_count": null,
      "metadata": {
        "id": "PsQh1n3EsgTf"
      },
      "outputs": [],
      "source": [
        "word_embedding_2=tf.keras.layers.Embedding(input_dim= 20000,\n",
        "                                         output_dim=128,\n",
        "                                         input_length= word_98_percentile)"
      ]
    },
    {
      "cell_type": "code",
      "execution_count": null,
      "metadata": {
        "id": "5gzAHLIusLIh"
      },
      "outputs": [],
      "source": [
        "inputs= tf.keras.layers.Input((1,), dtype=\"string\")\n",
        "x=word_tokenizer(inputs)\n",
        "x=word_embedding_2(x)\n",
        "x= tf.keras.layers.Conv1D(64, 3, activation=\"relu\")(x)\n",
        "x= tf.keras.layers.Conv1D(32, 3, activation=\"relu\")(x)\n",
        "x=tf.keras.layers.GlobalMaxPool1D()(x)\n",
        "outputs= tf.keras.layers.Dense(1, activation=\"sigmoid\", dtype=tf.float32)(x)\n",
        "\n",
        "model_2=tf.keras.Model(inputs, outputs)\n",
        "\n",
        "model_2.compile(loss=tf.keras.losses.BinaryCrossentropy(),\n",
        "                  optimizer=tf.keras.optimizers.Adam(),\n",
        "                  metrics=[\"accuracy\"])"
      ]
    },
    {
      "cell_type": "code",
      "execution_count": null,
      "metadata": {
        "id": "BCmhdmoTs0yu",
        "colab": {
          "base_uri": "https://localhost:8080/"
        },
        "outputId": "fed246e3-ff08-4b7a-9375-cfc0370ad552"
      },
      "outputs": [
        {
          "output_type": "stream",
          "name": "stdout",
          "text": [
            "Model: \"model_1\"\n",
            "_________________________________________________________________\n",
            " Layer (type)                Output Shape              Param #   \n",
            "=================================================================\n",
            " input_2 (InputLayer)        [(None, 1)]               0         \n",
            "                                                                 \n",
            " text_vectorization (TextVec  (None, 1994)             0         \n",
            " torization)                                                     \n",
            "                                                                 \n",
            " embedding_1 (Embedding)     (None, 1994, 128)         2560000   \n",
            "                                                                 \n",
            " conv1d (Conv1D)             (None, 1992, 64)          24640     \n",
            "                                                                 \n",
            " conv1d_1 (Conv1D)           (None, 1990, 32)          6176      \n",
            "                                                                 \n",
            " global_max_pooling1d_1 (Glo  (None, 32)               0         \n",
            " balMaxPooling1D)                                                \n",
            "                                                                 \n",
            " dense_3 (Dense)             (None, 1)                 33        \n",
            "                                                                 \n",
            "=================================================================\n",
            "Total params: 2,590,849\n",
            "Trainable params: 2,590,849\n",
            "Non-trainable params: 0\n",
            "_________________________________________________________________\n"
          ]
        }
      ],
      "source": [
        "model_2.summary()"
      ]
    },
    {
      "cell_type": "code",
      "execution_count": null,
      "metadata": {
        "id": "PIr-YZritTYu",
        "colab": {
          "base_uri": "https://localhost:8080/"
        },
        "outputId": "6a29c38c-2b73-4921-8a30-10800a63c59c"
      },
      "outputs": [
        {
          "output_type": "stream",
          "name": "stdout",
          "text": [
            "Epoch 1/5\n",
            "1691/1691 [==============================] - 141s 79ms/step - loss: 0.1027 - accuracy: 0.9591 - val_loss: 0.0597 - val_accuracy: 0.9766 - lr: 0.0010\n",
            "Epoch 2/5\n",
            "1691/1691 [==============================] - 21s 12ms/step - loss: 0.0239 - accuracy: 0.9915 - val_loss: 0.0606 - val_accuracy: 0.9777 - lr: 0.0010\n",
            "Epoch 3/5\n",
            "1691/1691 [==============================] - 22s 13ms/step - loss: 0.0066 - accuracy: 0.9979 - val_loss: 0.0891 - val_accuracy: 0.9766 - lr: 0.0010\n",
            "Epoch 4/5\n",
            "1691/1691 [==============================] - 21s 12ms/step - loss: 0.0018 - accuracy: 0.9996 - val_loss: 0.0730 - val_accuracy: 0.9827 - lr: 1.0000e-04\n",
            "Epoch 5/5\n",
            "1691/1691 [==============================] - 22s 13ms/step - loss: 7.2696e-04 - accuracy: 0.9999 - val_loss: 0.0737 - val_accuracy: 0.9821 - lr: 1.0000e-04\n"
          ]
        }
      ],
      "source": [
        "history_2=model_2.fit(train_dataset,\n",
        "                          epochs=5,\n",
        "                          callbacks=[tf.keras.callbacks.EarlyStopping(monitor=\"val_accuracy\", patience=2, restore_best_weights=True),\n",
        "                                     tf.keras.callbacks.ReduceLROnPlateau(monitor=\"val_accuracy\", patience=1),\n",
        "                                     tf.keras.callbacks.TensorBoard(log_dir=\"tensorboard/model_CNN\")],\n",
        "                          validation_data=(test_dataset),\n",
        "                      validation_steps=int(0.1*len(test_dataset)))"
      ]
    },
    {
      "cell_type": "markdown",
      "metadata": {
        "id": "BUcOTyequQKX"
      },
      "source": [
        "**Loss curves**"
      ]
    },
    {
      "cell_type": "code",
      "execution_count": null,
      "metadata": {
        "id": "x_9Hph01uTMh",
        "colab": {
          "base_uri": "https://localhost:8080/",
          "height": 265
        },
        "outputId": "b6b7d832-8e15-4c44-c1dc-860a2ff8669a"
      },
      "outputs": [
        {
          "output_type": "display_data",
          "data": {
            "text/plain": [
              "<Figure size 432x288 with 1 Axes>"
            ],
            "image/png": "[encoded data removed]"
          },
          "metadata": {
            "needs_background": "light"
          }
        }
      ],
      "source": [
        "pd.DataFrame(history_2.history).plot();"
      ]
    },
    {
      "cell_type": "code",
      "execution_count": null,
      "metadata": {
        "id": "40ixwwyr8zj7",
        "colab": {
          "base_uri": "https://localhost:8080/"
        },
        "outputId": "1843a28a-667c-4142-edd5-86992ce675d4"
      },
      "outputs": [
        {
          "output_type": "stream",
          "name": "stdout",
          "text": [
            "564/564 [==============================] - 3s 6ms/step\n"
          ]
        }
      ],
      "source": [
        "y_preds= model_2.predict(test_dataset)\n",
        "model_2_results= calculate_metrics(test_labels, y_preds.round().squeeze())"
      ]
    },
    {
      "cell_type": "code",
      "execution_count": null,
      "metadata": {
        "id": "ZrEpPCsG9IO9",
        "colab": {
          "base_uri": "https://localhost:8080/"
        },
        "outputId": "1e91e30c-9b89-4686-a5f3-9a7fdaba21d2"
      },
      "outputs": [
        {
          "output_type": "execute_result",
          "data": {
            "text/plain": [
              "{'Accuracy': 0.9838638127980481,\n",
              " 'Precision': 0.9828921885087153,\n",
              " 'Recall': 0.9857559080608611,\n",
              " 'f1_score': 0.9843219654113463}"
            ]
          },
          "metadata": {},
          "execution_count": 29
        }
      ],
      "source": [
        "model_2_results"
      ]
    },
    {
      "cell_type": "markdown",
      "metadata": {
        "id": "s_d9JZzouYUl"
      },
      "source": [
        "##**Model_3**: RNN(LSTM, GRU, Bidirectional)"
      ]
    },
    {
      "cell_type": "code",
      "execution_count": null,
      "metadata": {
        "id": "JtTwZTw9vAuw"
      },
      "outputs": [],
      "source": [
        "word_embedding_3=tf.keras.layers.Embedding(input_dim= 20000,\n",
        "                                         output_dim=128,\n",
        "                                         input_length= word_98_percentile)"
      ]
    },
    {
      "cell_type": "code",
      "execution_count": null,
      "metadata": {
        "id": "SgZuleDouXvY"
      },
      "outputs": [],
      "source": [
        "inputs= tf.keras.layers.Input((1,), dtype=\"string\")\n",
        "x=word_tokenizer(inputs)\n",
        "x=word_embedding_3(x)\n",
        "x= tf.keras.layers.LSTM(32, return_sequences=True)(x)\n",
        "x= tf.keras.layers.GRU(32, return_sequences=True)(x)\n",
        "x= tf.keras.layers.Bidirectional(tf.keras.layers.LSTM(16))(x)\n",
        "outputs= tf.keras.layers.Dense(1, activation=\"sigmoid\")(x)\n",
        "\n",
        "model_3=tf.keras.Model(inputs, outputs)\n",
        "\n",
        "model_3.compile(loss=tf.keras.losses.BinaryCrossentropy(),\n",
        "                  optimizer=tf.keras.optimizers.Adam(),\n",
        "                  metrics=[\"accuracy\"])"
      ]
    },
    {
      "cell_type": "code",
      "execution_count": null,
      "metadata": {
        "id": "jr02wfr1wcu5",
        "colab": {
          "base_uri": "https://localhost:8080/"
        },
        "outputId": "bfae415d-0617-42c8-a2eb-e4126745aa34"
      },
      "outputs": [
        {
          "output_type": "stream",
          "name": "stdout",
          "text": [
            "Model: \"model_2\"\n",
            "_________________________________________________________________\n",
            " Layer (type)                Output Shape              Param #   \n",
            "=================================================================\n",
            " input_3 (InputLayer)        [(None, 1)]               0         \n",
            "                                                                 \n",
            " text_vectorization (TextVec  (None, 1994)             0         \n",
            " torization)                                                     \n",
            "                                                                 \n",
            " embedding_2 (Embedding)     (None, 1994, 128)         2560000   \n",
            "                                                                 \n",
            " lstm (LSTM)                 (None, 1994, 32)          20608     \n",
            "                                                                 \n",
            " gru (GRU)                   (None, 1994, 32)          6336      \n",
            "                                                                 \n",
            " bidirectional (Bidirectiona  (None, 32)               6272      \n",
            " l)                                                              \n",
            "                                                                 \n",
            " dense_4 (Dense)             (None, 1)                 33        \n",
            "                                                                 \n",
            "=================================================================\n",
            "Total params: 2,593,249\n",
            "Trainable params: 2,593,249\n",
            "Non-trainable params: 0\n",
            "_________________________________________________________________\n"
          ]
        }
      ],
      "source": [
        "model_3.summary()"
      ]
    },
    {
      "cell_type": "code",
      "execution_count": null,
      "metadata": {
        "id": "U6Cgt2JVwfPJ",
        "colab": {
          "base_uri": "https://localhost:8080/"
        },
        "outputId": "724816eb-104a-424b-f6e4-753d0f91332f"
      },
      "outputs": [
        {
          "output_type": "stream",
          "name": "stdout",
          "text": [
            "Epoch 1/5\n",
            "1691/1691 [==============================] - 439s 254ms/step - loss: 0.1698 - accuracy: 0.9334 - val_loss: 0.1741 - val_accuracy: 0.9598 - lr: 0.0010\n",
            "Epoch 2/5\n",
            "1691/1691 [==============================] - 323s 191ms/step - loss: 0.0923 - accuracy: 0.9694 - val_loss: 0.0900 - val_accuracy: 0.9699 - lr: 0.0010\n",
            "Epoch 3/5\n",
            "1691/1691 [==============================] - 321s 190ms/step - loss: 0.0575 - accuracy: 0.9814 - val_loss: 0.0786 - val_accuracy: 0.9766 - lr: 0.0010\n",
            "Epoch 4/5\n",
            "1691/1691 [==============================] - 321s 190ms/step - loss: 0.0469 - accuracy: 0.9858 - val_loss: 0.0881 - val_accuracy: 0.9704 - lr: 0.0010\n",
            "Epoch 5/5\n",
            "1691/1691 [==============================] - 320s 189ms/step - loss: 0.0241 - accuracy: 0.9933 - val_loss: 0.0676 - val_accuracy: 0.9766 - lr: 1.0000e-04\n"
          ]
        }
      ],
      "source": [
        "history_3=model_3.fit(train_dataset,\n",
        "                      epochs=5,\n",
        "                      callbacks=[tf.keras.callbacks.EarlyStopping(monitor=\"val_accuracy\", patience=2, restore_best_weights=True),\n",
        "                                     tf.keras.callbacks.ReduceLROnPlateau(monitor=\"val_accuracy\", patience=1),\n",
        "                                 tf.keras.callbacks.TensorBoard(log_dir=\"tensorboard/model_RNN\")],\n",
        "                      validation_data=(test_dataset),\n",
        "                      validation_steps=int(0.1*len(test_dataset)))"
      ]
    },
    {
      "cell_type": "markdown",
      "metadata": {
        "id": "8_BDrsKz9oiF"
      },
      "source": [
        "**Loss curves**"
      ]
    },
    {
      "cell_type": "code",
      "execution_count": null,
      "metadata": {
        "id": "l_i8sA1JwoeW",
        "colab": {
          "base_uri": "https://localhost:8080/",
          "height": 265
        },
        "outputId": "e85ccc26-c878-44ff-8299-cfa73c7e5fc0"
      },
      "outputs": [
        {
          "output_type": "display_data",
          "data": {
            "text/plain": [
              "<Figure size 432x288 with 1 Axes>"
            ],
            "image/png": "[encoded data removed]"
          },
          "metadata": {
            "needs_background": "light"
          }
        }
      ],
      "source": [
        "pd.DataFrame(history_3.history).plot();"
      ]
    },
    {
      "cell_type": "code",
      "execution_count": null,
      "metadata": {
        "id": "NawlBFEZ9m5X",
        "colab": {
          "base_uri": "https://localhost:8080/"
        },
        "outputId": "16e00d30-4306-4244-b955-5fb0d361415d"
      },
      "outputs": [
        {
          "output_type": "stream",
          "name": "stdout",
          "text": [
            "564/564 [==============================] - 54s 93ms/step\n"
          ]
        }
      ],
      "source": [
        "y_preds= model_3.predict(test_dataset)\n",
        "model_3_results=calculate_metrics(test_labels, y_preds.round().squeeze())"
      ]
    },
    {
      "cell_type": "code",
      "execution_count": null,
      "metadata": {
        "id": "CPNsJ5g9-ONP",
        "colab": {
          "base_uri": "https://localhost:8080/"
        },
        "outputId": "000aac97-8a4a-47b8-dc76-2f44cfccb505"
      },
      "outputs": [
        {
          "output_type": "execute_result",
          "data": {
            "text/plain": [
              "{'Accuracy': 0.9747144283020961,\n",
              " 'Precision': 0.9633953928684128,\n",
              " 'Recall': 0.9883457429588863,\n",
              " 'f1_score': 0.9757110898050495}"
            ]
          },
          "metadata": {},
          "execution_count": 36
        }
      ],
      "source": [
        "model_3_results"
      ]
    },
    {
      "cell_type": "markdown",
      "metadata": {
        "id": "ZQ9Ydg1KxCBD"
      },
      "source": [
        "##**Model_4**: Transfer_learning"
      ]
    },
    {
      "cell_type": "code",
      "execution_count": null,
      "metadata": {
        "id": "d6JBJg-E-dfY",
        "colab": {
          "base_uri": "https://localhost:8080/"
        },
        "outputId": "6d18cdc1-8679-44fe-ba03-871cd4f84576"
      },
      "outputs": [
        {
          "output_type": "stream",
          "name": "stderr",
          "text": [
            "WARNING:tensorflow:Please fix your imports. Module tensorflow.python.training.tracking.data_structures has been moved to tensorflow.python.trackable.data_structures. The old module will be deleted in version 2.11.\n"
          ]
        }
      ],
      "source": [
        "import tensorflow_hub as hub\n",
        "\n",
        "link=\"https://tfhub.dev/google/universal-sentence-encoder/4\"\n",
        "embedding_layer= hub.KerasLayer(link)"
      ]
    },
    {
      "cell_type": "code",
      "execution_count": null,
      "metadata": {
        "id": "MNywquOuA3wu",
        "colab": {
          "base_uri": "https://localhost:8080/"
        },
        "outputId": "cd0eaed4-7f3c-4aa3-f5df-47ca6185001f"
      },
      "outputs": [
        {
          "output_type": "stream",
          "name": "stderr",
          "text": [
            "WARNING:tensorflow:From /usr/local/lib/python3.8/dist-packages/tensorflow/python/autograph/pyct/static_analysis/liveness.py:83: Analyzer.lamba_check (from tensorflow.python.autograph.pyct.static_analysis.liveness) is deprecated and will be removed after 2023-09-23.\n",
            "Instructions for updating:\n",
            "Lambda fuctions will be no more assumed to be used in the statement where they are used, or at least in the same block. https://github.com/tensorflow/tensorflow/issues/56089\n"
          ]
        }
      ],
      "source": [
        "inputs= tf.keras.layers.Input([], dtype=\"string\")\n",
        "x=embedding_layer(inputs)\n",
        "x= tf.keras.layers.Dense(64, activation=\"relu\")(x)\n",
        "x= tf.keras.layers.Dense(32, activation=\"relu\")(x)\n",
        "outputs= tf.keras.layers.Dense(1, activation=\"sigmoid\")(x)\n",
        "\n",
        "model_4=tf.keras.Model(inputs, outputs)\n",
        "\n",
        "model_4.compile(loss=tf.keras.losses.BinaryCrossentropy(),\n",
        "                  optimizer=tf.keras.optimizers.Adam(),\n",
        "                  metrics=[\"accuracy\"])"
      ]
    },
    {
      "cell_type": "code",
      "execution_count": null,
      "metadata": {
        "id": "bZJcye3BBhq3",
        "colab": {
          "base_uri": "https://localhost:8080/"
        },
        "outputId": "2a998ebb-2d0b-4b49-f9bb-30cb68403f63"
      },
      "outputs": [
        {
          "output_type": "stream",
          "name": "stdout",
          "text": [
            "Model: \"model_3\"\n",
            "_________________________________________________________________\n",
            " Layer (type)                Output Shape              Param #   \n",
            "=================================================================\n",
            " input_4 (InputLayer)        [(None,)]                 0         \n",
            "                                                                 \n",
            " keras_layer (KerasLayer)    (None, 512)               256797824 \n",
            "                                                                 \n",
            " dense_5 (Dense)             (None, 64)                32832     \n",
            "                                                                 \n",
            " dense_6 (Dense)             (None, 32)                2080      \n",
            "                                                                 \n",
            " dense_7 (Dense)             (None, 1)                 33        \n",
            "                                                                 \n",
            "=================================================================\n",
            "Total params: 256,832,769\n",
            "Trainable params: 34,945\n",
            "Non-trainable params: 256,797,824\n",
            "_________________________________________________________________\n"
          ]
        }
      ],
      "source": [
        "model_4.summary()"
      ]
    },
    {
      "cell_type": "code",
      "execution_count": null,
      "metadata": {
        "id": "-tdxhqnFBlkT",
        "colab": {
          "base_uri": "https://localhost:8080/"
        },
        "outputId": "313103d4-ade4-4e52-ab68-02b0c08600b2"
      },
      "outputs": [
        {
          "output_type": "stream",
          "name": "stdout",
          "text": [
            "Epoch 1/5\n",
            "1691/1691 [==============================] - 170s 98ms/step - loss: 0.3065 - accuracy: 0.8717 - val_loss: 0.2652 - val_accuracy: 0.8878 - lr: 0.0010\n",
            "Epoch 2/5\n",
            "1691/1691 [==============================] - 161s 95ms/step - loss: 0.2323 - accuracy: 0.9041 - val_loss: 0.2456 - val_accuracy: 0.9007 - lr: 0.0010\n",
            "Epoch 3/5\n",
            "1691/1691 [==============================] - 161s 95ms/step - loss: 0.2006 - accuracy: 0.9188 - val_loss: 0.2410 - val_accuracy: 0.9057 - lr: 0.0010\n",
            "Epoch 4/5\n",
            "1691/1691 [==============================] - 165s 98ms/step - loss: 0.1775 - accuracy: 0.9291 - val_loss: 0.2372 - val_accuracy: 0.9107 - lr: 0.0010\n",
            "Epoch 5/5\n",
            "1691/1691 [==============================] - 160s 95ms/step - loss: 0.1589 - accuracy: 0.9372 - val_loss: 0.2385 - val_accuracy: 0.9107 - lr: 0.0010\n"
          ]
        }
      ],
      "source": [
        "history_4=model_4.fit(train_dataset,\n",
        "                          epochs=5,\n",
        "                          callbacks=[tf.keras.callbacks.EarlyStopping(monitor=\"val_accuracy\", patience=2, restore_best_weights=True),\n",
        "                                     tf.keras.callbacks.ReduceLROnPlateau(monitor=\"val_accuracy\", patience=1),\n",
        "                                     tf.keras.callbacks.TensorBoard(log_dir=\"tensorboard/model_TL\")],\n",
        "                          validation_data=(test_dataset),\n",
        "                      validation_steps=int(0.1*len(test_dataset)))"
      ]
    },
    {
      "cell_type": "markdown",
      "metadata": {
        "id": "ThHHqP5TIZ0C"
      },
      "source": [
        "**Loss curves**"
      ]
    },
    {
      "cell_type": "code",
      "execution_count": null,
      "metadata": {
        "id": "yK8lKiqtITmV",
        "colab": {
          "base_uri": "https://localhost:8080/",
          "height": 265
        },
        "outputId": "d3610ec4-b0e8-48b4-ecf5-9c4fb9c2c9b9"
      },
      "outputs": [
        {
          "output_type": "display_data",
          "data": {
            "text/plain": [
              "<Figure size 432x288 with 1 Axes>"
            ],
            "image/png": "[encoded data removed]"
          },
          "metadata": {
            "needs_background": "light"
          }
        }
      ],
      "source": [
        "pd.DataFrame(history_4.history).plot();"
      ]
    },
    {
      "cell_type": "code",
      "execution_count": null,
      "metadata": {
        "id": "OQCjFiW6Ijwd",
        "colab": {
          "base_uri": "https://localhost:8080/"
        },
        "outputId": "fde602f5-6445-4c24-e20f-ebd86018b53f"
      },
      "outputs": [
        {
          "output_type": "stream",
          "name": "stdout",
          "text": [
            "564/564 [==============================] - 48s 85ms/step\n"
          ]
        }
      ],
      "source": [
        "y_preds= model_4.predict(test_dataset)\n",
        "model_4_results=calculate_metrics(test_labels, y_preds.round().squeeze())"
      ]
    },
    {
      "cell_type": "code",
      "execution_count": null,
      "metadata": {
        "id": "yUDZPxvrIkk9",
        "colab": {
          "base_uri": "https://localhost:8080/"
        },
        "outputId": "5b74eb31-0ff3-400c-ac08-490261da965b"
      },
      "outputs": [
        {
          "output_type": "execute_result",
          "data": {
            "text/plain": [
              "{'Accuracy': 0.914993900410336,\n",
              " 'Precision': 0.8919521589296574,\n",
              " 'Recall': 0.9496061292759254,\n",
              " 'f1_score': 0.9198766529033607}"
            ]
          },
          "metadata": {},
          "execution_count": 43
        }
      ],
      "source": [
        "model_4_results"
      ]
    },
    {
      "cell_type": "markdown",
      "metadata": {
        "id": "5SwnqFcLJE-l"
      },
      "source": [
        "##**Model_5**: custom+transfer_learning"
      ]
    },
    {
      "cell_type": "code",
      "execution_count": null,
      "metadata": {
        "id": "i0OmEV7xKwpt"
      },
      "outputs": [],
      "source": [
        "word_embedding_4=tf.keras.layers.Embedding(input_dim= 20000,\n",
        "                                         output_dim=128,\n",
        "                                         input_length= word_98_percentile)"
      ]
    },
    {
      "cell_type": "code",
      "execution_count": null,
      "metadata": {
        "id": "2Rj3L1APU4Ud"
      },
      "outputs": [],
      "source": [
        "input_custom=tf.keras.layers.Input((1,), dtype=\"string\")\n",
        "x=word_tokenizer(input_custom)\n",
        "x=word_embedding_4(x)\n",
        "output_custom=tf.keras.layers.GlobalMaxPool1D()(x)\n",
        "\n",
        "model_custom=tf.keras.Model(input_custom, output_custom)\n",
        "\n",
        "input_tl=tf.keras.layers.Input([], dtype=\"string\")\n",
        "output_tl=embedding_layer(input_tl)\n",
        "\n",
        "model_tl=tf.keras.Model(input_tl, output_tl)\n",
        "\n",
        "concatenate_layer= tf.keras.layers.Concatenate()([model_custom.output, model_tl.output])\n",
        "\n",
        "x= tf.keras.layers.Dense(64, activation=\"relu\")(concatenate_layer)\n",
        "x= tf.keras.layers.Dense(32, activation=\"relu\")(x)\n",
        "outputs= tf.keras.layers.Dense(1, activation=\"sigmoid\")(x)\n",
        "\n",
        "#model_5\n",
        "model_5= tf.keras.Model(inputs=[model_custom.input, model_tl.input],\n",
        "                        outputs=outputs)\n",
        "\n",
        "model_5.compile(loss=tf.keras.losses.BinaryCrossentropy(),\n",
        "                  optimizer=tf.keras.optimizers.Adam(),\n",
        "                  metrics=[\"accuracy\"])"
      ]
    },
    {
      "cell_type": "code",
      "source": [
        "model_5.summary()"
      ],
      "metadata": {
        "id": "rubY7wqzGtz4",
        "colab": {
          "base_uri": "https://localhost:8080/"
        },
        "outputId": "457fced9-e07f-461d-8b69-bcb37512b5f0"
      },
      "execution_count": null,
      "outputs": [
        {
          "output_type": "stream",
          "name": "stdout",
          "text": [
            "Model: \"model_6\"\n",
            "__________________________________________________________________________________________________\n",
            " Layer (type)                   Output Shape         Param #     Connected to                     \n",
            "==================================================================================================\n",
            " input_5 (InputLayer)           [(None, 1)]          0           []                               \n",
            "                                                                                                  \n",
            " text_vectorization (TextVector  (None, 1994)        0           ['input_5[0][0]']                \n",
            " ization)                                                                                         \n",
            "                                                                                                  \n",
            " embedding_3 (Embedding)        (None, 1994, 128)    2560000     ['text_vectorization[3][0]']     \n",
            "                                                                                                  \n",
            " input_6 (InputLayer)           [(None,)]            0           []                               \n",
            "                                                                                                  \n",
            " global_max_pooling1d_2 (Global  (None, 128)         0           ['embedding_3[0][0]']            \n",
            " MaxPooling1D)                                                                                    \n",
            "                                                                                                  \n",
            " keras_layer (KerasLayer)       (None, 512)          256797824   ['input_6[0][0]']                \n",
            "                                                                                                  \n",
            " concatenate (Concatenate)      (None, 640)          0           ['global_max_pooling1d_2[0][0]', \n",
            "                                                                  'keras_layer[1][0]']            \n",
            "                                                                                                  \n",
            " dense_8 (Dense)                (None, 64)           41024       ['concatenate[0][0]']            \n",
            "                                                                                                  \n",
            " dense_9 (Dense)                (None, 32)           2080        ['dense_8[0][0]']                \n",
            "                                                                                                  \n",
            " dense_10 (Dense)               (None, 1)            33          ['dense_9[0][0]']                \n",
            "                                                                                                  \n",
            "==================================================================================================\n",
            "Total params: 259,400,961\n",
            "Trainable params: 2,603,137\n",
            "Non-trainable params: 256,797,824\n",
            "__________________________________________________________________________________________________\n"
          ]
        }
      ]
    },
    {
      "cell_type": "markdown",
      "metadata": {
        "id": "HyW5ZVBGdCmF"
      },
      "source": [
        "**Dual input**"
      ]
    },
    {
      "cell_type": "code",
      "execution_count": null,
      "metadata": {
        "id": "dZBA4ImidGd4",
        "colab": {
          "base_uri": "https://localhost:8080/"
        },
        "outputId": "11f60232-014d-4597-c12c-606d32403373"
      },
      "outputs": [
        {
          "output_type": "execute_result",
          "data": {
            "text/plain": [
              "(<PrefetchDataset element_spec=((TensorSpec(shape=(None,), dtype=tf.string, name=None), TensorSpec(shape=(None,), dtype=tf.string, name=None)), TensorSpec(shape=(None,), dtype=tf.int64, name=None))>,\n",
              " <PrefetchDataset element_spec=((TensorSpec(shape=(None,), dtype=tf.string, name=None), TensorSpec(shape=(None,), dtype=tf.string, name=None)), TensorSpec(shape=(None,), dtype=tf.int64, name=None))>)"
            ]
          },
          "metadata": {},
          "execution_count": 47
        }
      ],
      "source": [
        "train_dataset_dual_inputs=tf.data.Dataset.from_tensor_slices((train_text, train_text))\n",
        "train_dataset_dual_labels=tf.data.Dataset.from_tensor_slices(train_labels)\n",
        "train_dataset_dual=tf.data.Dataset.zip((train_dataset_dual_inputs, train_dataset_dual_labels)).batch(32).prefetch(tf.data.AUTOTUNE)\n",
        "\n",
        "test_dataset_dual_inputs=tf.data.Dataset.from_tensor_slices((test_text, test_text))\n",
        "test_dataset_dual_labels=tf.data.Dataset.from_tensor_slices(test_labels)\n",
        "test_dataset_dual=tf.data.Dataset.zip((test_dataset_dual_inputs, test_dataset_dual_labels)).batch(32).prefetch(tf.data.AUTOTUNE)\n",
        "\n",
        "train_dataset_dual, test_dataset_dual"
      ]
    },
    {
      "cell_type": "code",
      "execution_count": null,
      "metadata": {
        "id": "3g2cNIqea2AU",
        "colab": {
          "base_uri": "https://localhost:8080/"
        },
        "outputId": "99bece56-29b0-4841-f045-a4e381f305f1"
      },
      "outputs": [
        {
          "output_type": "stream",
          "name": "stdout",
          "text": [
            "Epoch 1/5\n",
            "1691/1691 [==============================] - 276s 162ms/step - loss: 0.1163 - accuracy: 0.9547 - val_loss: 0.0761 - val_accuracy: 0.9704 - lr: 0.0010\n",
            "Epoch 2/5\n",
            "1691/1691 [==============================] - 170s 101ms/step - loss: 0.0436 - accuracy: 0.9846 - val_loss: 0.1151 - val_accuracy: 0.9581 - lr: 0.0010\n",
            "Epoch 3/5\n",
            "1691/1691 [==============================] - 179s 106ms/step - loss: 0.0158 - accuracy: 0.9955 - val_loss: 0.0484 - val_accuracy: 0.9838 - lr: 1.0000e-04\n",
            "Epoch 4/5\n",
            "1691/1691 [==============================] - 173s 102ms/step - loss: 0.0112 - accuracy: 0.9970 - val_loss: 0.0487 - val_accuracy: 0.9844 - lr: 1.0000e-04\n",
            "Epoch 5/5\n",
            "1691/1691 [==============================] - 178s 105ms/step - loss: 0.0081 - accuracy: 0.9981 - val_loss: 0.0496 - val_accuracy: 0.9849 - lr: 1.0000e-04\n"
          ]
        }
      ],
      "source": [
        "history_5=model_5.fit(train_dataset_dual,\n",
        "                          epochs=5,\n",
        "                          callbacks=[tf.keras.callbacks.EarlyStopping(monitor=\"val_accuracy\", patience=2, restore_best_weights=True),\n",
        "                                     tf.keras.callbacks.ReduceLROnPlateau(monitor=\"val_accuracy\", patience=1),\n",
        "                                     tf.keras.callbacks.TensorBoard(log_dir=\"tensorboard/model_Custom+TL\")],\n",
        "                          validation_data=(test_dataset_dual),\n",
        "                      validation_steps=int(0.1*len(test_dataset)))"
      ]
    },
    {
      "cell_type": "markdown",
      "metadata": {
        "id": "ThG9tH5IbI89"
      },
      "source": [
        "**loss curves**"
      ]
    },
    {
      "cell_type": "code",
      "execution_count": null,
      "metadata": {
        "id": "yySsp5Bma_MY",
        "colab": {
          "base_uri": "https://localhost:8080/",
          "height": 265
        },
        "outputId": "5fa549ae-e6c7-441d-c9aa-2a3956f0f5ab"
      },
      "outputs": [
        {
          "output_type": "display_data",
          "data": {
            "text/plain": [
              "<Figure size 432x288 with 1 Axes>"
            ],
            "image/png": "[encoded data removed]"
          },
          "metadata": {
            "needs_background": "light"
          }
        }
      ],
      "source": [
        "pd.DataFrame(history_5.history).plot();"
      ]
    },
    {
      "cell_type": "code",
      "execution_count": null,
      "metadata": {
        "id": "_VevbJ-ibICp",
        "colab": {
          "base_uri": "https://localhost:8080/"
        },
        "outputId": "08182c33-2ba6-4e56-bbc6-fb28b014c6ff"
      },
      "outputs": [
        {
          "output_type": "stream",
          "name": "stdout",
          "text": [
            "564/564 [==============================] - 50s 89ms/step\n"
          ]
        }
      ],
      "source": [
        "y_preds= model_5.predict(test_dataset_dual)\n",
        "model_5_results=calculate_metrics(test_labels, y_preds.round().squeeze())"
      ]
    },
    {
      "cell_type": "code",
      "execution_count": null,
      "metadata": {
        "id": "__BY5WBhbfkg",
        "colab": {
          "base_uri": "https://localhost:8080/"
        },
        "outputId": "0e642dfa-f026-4d22-c6e2-9453d2b24831"
      },
      "outputs": [
        {
          "output_type": "execute_result",
          "data": {
            "text/plain": [
              "{'Accuracy': 0.9847510258400799,\n",
              " 'Precision': 0.9822999356361296,\n",
              " 'Recall': 0.9881299233840509,\n",
              " 'f1_score': 0.9852063048039162}"
            ]
          },
          "metadata": {},
          "execution_count": 51
        }
      ],
      "source": [
        "model_5_results"
      ]
    },
    {
      "cell_type": "markdown",
      "metadata": {
        "id": "EQ49FibJbi-M"
      },
      "source": [
        "##**model_6**: Ensemble"
      ]
    },
    {
      "cell_type": "code",
      "execution_count": null,
      "metadata": {
        "id": "GlRBS78ttsM_"
      },
      "outputs": [],
      "source": [
        "word_embedding_5=tf.keras.layers.Embedding(input_dim= 20000,\n",
        "                                         output_dim=128,\n",
        "                                         input_length= word_98_percentile)\n",
        "\n",
        "word_embedding_6=tf.keras.layers.Embedding(input_dim= 20000,\n",
        "                                         output_dim=128,\n",
        "                                         input_length= word_98_percentile)"
      ]
    },
    {
      "cell_type": "code",
      "execution_count": null,
      "metadata": {
        "id": "lsEQCaVttzMn"
      },
      "outputs": [],
      "source": [
        "inputs= tf.keras.layers.Input((1,), dtype=\"string\")\n",
        "x=word_tokenizer(inputs)\n",
        "x=word_embedding_5(x)\n",
        "x= tf.keras.layers.Dense(64, activation=\"relu\")(x)\n",
        "x=tf.keras.layers.GlobalMaxPool1D()(x)\n",
        "x= tf.keras.layers.Dense(32, activation=\"relu\")(x)\n",
        "outputs= tf.keras.layers.Dense(1, activation=\"sigmoid\")(x)\n",
        "\n",
        "model_1_ensemble=tf.keras.Model(inputs, outputs)\n",
        "\n",
        "inputs= tf.keras.layers.Input((1,), dtype=\"string\")\n",
        "x=word_tokenizer(inputs)\n",
        "x=word_embedding_6(x)\n",
        "x= tf.keras.layers.Conv1D(64, 3, activation=\"relu\")(x)\n",
        "x= tf.keras.layers.Conv1D(32, 3, activation=\"relu\")(x)\n",
        "x=tf.keras.layers.GlobalMaxPool1D()(x)\n",
        "outputs= tf.keras.layers.Dense(1, activation=\"sigmoid\")(x)\n",
        "\n",
        "model_2_ensemble=tf.keras.Model(inputs, outputs)"
      ]
    },
    {
      "cell_type": "code",
      "execution_count": null,
      "metadata": {
        "id": "Ch2PtT2NuADN",
        "colab": {
          "base_uri": "https://localhost:8080/"
        },
        "outputId": "f400194f-a936-45a5-fb78-6af0b9f0b561"
      },
      "outputs": [
        {
          "output_type": "stream",
          "name": "stdout",
          "text": [
            "564/564 [==============================] - 4s 6ms/step\n",
            "564/564 [==============================] - 3s 6ms/step\n",
            "564/564 [==============================] - 3s 6ms/step\n",
            "564/564 [==============================] - 5s 6ms/step\n",
            "564/564 [==============================] - 4s 8ms/step\n",
            "564/564 [==============================] - 4s 6ms/step\n",
            "CPU times: user 16min 27s, sys: 1min 5s, total: 17min 33s\n",
            "Wall time: 19min 20s\n"
          ]
        }
      ],
      "source": [
        "%%time\n",
        "pred_probs=[]\n",
        "\n",
        "for i in range(3):\n",
        "\n",
        "  model_1_ensemble.compile(loss=tf.keras.losses.BinaryCrossentropy(),\n",
        "                  optimizer=tf.keras.optimizers.Adam(),\n",
        "                  metrics=[\"accuracy\"])\n",
        "\n",
        "  history_1_ensemble=model_1_ensemble.fit(train_dataset,\n",
        "                            epochs=3,\n",
        "                            callbacks=[tf.keras.callbacks.EarlyStopping(monitor=\"val_accuracy\", patience=5, restore_best_weights=True),\n",
        "                                      tf.keras.callbacks.ReduceLROnPlateau(monitor=\"val_accuracy\", patience=2)],\n",
        "                            validation_data=(test_dataset),\n",
        "                            verbose=0,\n",
        "                            validation_steps=int(0.1*len(test_dataset)))\n",
        "  y_preds=model_1_ensemble.predict(test_dataset).squeeze()\n",
        "  pred_probs.append(y_preds.tolist())\n",
        "\n",
        "  model_2_ensemble.compile(loss=tf.keras.losses.BinaryCrossentropy(),\n",
        "                  optimizer=tf.keras.optimizers.Adam(),\n",
        "                  metrics=[\"accuracy\"])\n",
        "\n",
        "  history_2_ensemble=model_2_ensemble.fit(train_dataset,\n",
        "                            epochs=3,\n",
        "                            callbacks=[tf.keras.callbacks.EarlyStopping(monitor=\"val_accuracy\", patience=2, restore_best_weights=True),\n",
        "                                      tf.keras.callbacks.ReduceLROnPlateau(monitor=\"val_accuracy\", patience=1)],\n",
        "                            validation_data=(test_dataset),\n",
        "                            verbose=0,\n",
        "                            validation_steps=int(0.1*len(test_dataset)))\n",
        "  y_preds=model_2_ensemble.predict(test_dataset).squeeze()\n",
        "  pred_probs.append(y_preds.tolist())"
      ]
    },
    {
      "cell_type": "code",
      "execution_count": null,
      "metadata": {
        "id": "sIPvOhkrye7y"
      },
      "outputs": [],
      "source": [
        "pred_probs_1=np.array(pred_probs)\n",
        "pred_probs_2=pred_probs_1.T\n",
        "ensemble_preds=np.mean(pred_probs_2, axis=1)"
      ]
    },
    {
      "cell_type": "code",
      "execution_count": null,
      "metadata": {
        "id": "7xQOfj2FH32R",
        "colab": {
          "base_uri": "https://localhost:8080/"
        },
        "outputId": "110dbffa-a082-4da5-b4a4-f0fe3477b21f"
      },
      "outputs": [
        {
          "output_type": "execute_result",
          "data": {
            "text/plain": [
              "{'Accuracy': 0.987745369856937,\n",
              " 'Precision': 0.9862395183831434,\n",
              " 'Recall': 0.9899643897701521,\n",
              " 'f1_score': 0.9880984436426301}"
            ]
          },
          "metadata": {},
          "execution_count": 56
        }
      ],
      "source": [
        "model_6_results= calculate_metrics(test_labels, ensemble_preds.round())\n",
        "model_6_results"
      ]
    },
    {
      "cell_type": "markdown",
      "metadata": {
        "id": "1MSpgNPHkaWb"
      },
      "source": [
        "##**Model_7**:BERT"
      ]
    },
    {
      "cell_type": "code",
      "source": [
        "import tensorflow_hub as hub"
      ],
      "metadata": {
        "id": "7mGgeXVJbXyk"
      },
      "execution_count": null,
      "outputs": []
    },
    {
      "cell_type": "code",
      "execution_count": null,
      "metadata": {
        "id": "O-ZEGXvIKhwC"
      },
      "outputs": [],
      "source": [
        "preprocess_link=\"https://tfhub.dev/tensorflow/bert_en_uncased_preprocess/3\"\n",
        "bert=\"https://tfhub.dev/tensorflow/bert_en_uncased_L-12_H-768_A-12/4\""
      ]
    },
    {
      "cell_type": "code",
      "execution_count": null,
      "metadata": {
        "id": "OKakN2mLI988"
      },
      "outputs": [],
      "source": [
        "inputs= tf.keras.layers.Input((), dtype=\"string\")\n",
        "preprocess=hub.KerasLayer(preprocess_link)\n",
        "x=preprocess(inputs)\n",
        "bert=hub.KerasLayer(bert)\n",
        "x=bert(x)\n",
        "x=x[\"pooled_output\"]\n",
        "x=tf.keras.layers.Dense(64, activation=\"relu\")(x)\n",
        "x=tf.keras.layers.Dense(32, activation=\"relu\")(x)\n",
        "output=tf.keras.layers.Dense(1, activation=\"sigmoid\")(x)\n",
        "\n",
        "model_bert=tf.keras.Model(inputs, output)"
      ]
    },
    {
      "cell_type": "code",
      "source": [
        "model_bert.summary()"
      ],
      "metadata": {
        "id": "aGckJLs6GGyM"
      },
      "execution_count": null,
      "outputs": []
    },
    {
      "cell_type": "code",
      "execution_count": null,
      "metadata": {
        "id": "PGDCvK0ELnkO"
      },
      "outputs": [],
      "source": [
        "model_bert.compile(loss= tf.keras.losses.BinaryCrossentropy(),\n",
        "                   optimizer=tf.keras.optimizers.Adam(),\n",
        "                   metrics=[\"accuracy\"])"
      ]
    },
    {
      "cell_type": "code",
      "source": [
        "history_bert=model_bert.fit(train_dataset,\n",
        "               epochs=5,\n",
        "               batch_size=32,\n",
        "               callbacks=[tf.keras.callbacks.EarlyStopping(monitor=\"val_accuracy\", patience=2, restore_best_weights=True),\n",
        "                                     tf.keras.callbacks.ReduceLROnPlateau(monitor=\"val_accuracy\", patience=1),\n",
        "                                     tf.keras.callbacks.TensorBoard(log_dir=\"tensorboard/model_bert\")],\n",
        "               validation_data=(test_dataset),\n",
        "               validation_steps=int(0.1*len(test_dataset)))"
      ],
      "metadata": {
        "id": "dBIw9xUPJUQZ"
      },
      "execution_count": null,
      "outputs": []
    },
    {
      "cell_type": "markdown",
      "source": [
        "**Loss curves**"
      ],
      "metadata": {
        "id": "6l_-0MRqF4z3"
      }
    },
    {
      "cell_type": "code",
      "source": [
        "pd.DataFrame(history_bert.history).plot();"
      ],
      "metadata": {
        "id": "mQOScqd6F7R8"
      },
      "execution_count": null,
      "outputs": []
    },
    {
      "cell_type": "code",
      "source": [
        "y_preds=model_bert.predict(test_dataset).squeeze()"
      ],
      "metadata": {
        "id": "3MuP0tYvsdZI"
      },
      "execution_count": null,
      "outputs": []
    },
    {
      "cell_type": "code",
      "source": [
        "model_bert_results= calculate_metrics(test_labels, y_preds.round())\n",
        "model_bert_results"
      ],
      "metadata": {
        "id": "GqkZDCBJsyW9"
      },
      "execution_count": null,
      "outputs": []
    },
    {
      "cell_type": "markdown",
      "metadata": {
        "id": "1i1AjP_CIPtA"
      },
      "source": [
        "##**Conclusion**"
      ]
    },
    {
      "cell_type": "code",
      "execution_count": null,
      "metadata": {
        "id": "XMZ1y2pyIS4y"
      },
      "outputs": [],
      "source": [
        "results_df= pd.DataFrame({\"model_1: MLP\": model_1_results,\n",
        "                          \"model_2: CNN\": model_2_results,\n",
        "                          \"model_3: RNN\": model_3_results,\n",
        "                          \"model_4: TL\": model_4_results,\n",
        "                          \"model_5: Custom+TL\": model_5_results,\n",
        "                          \"model_6: Ensemble\": model_6_results,\n",
        "                          \"model_bert: BERT\": model_bert_results}).T\n",
        "\n",
        "results_df"
      ]
    },
    {
      "cell_type": "code",
      "execution_count": null,
      "metadata": {
        "id": "XuHK-KFjJJrG"
      },
      "outputs": [],
      "source": [
        "results_df.plot(kind=\"bar\", title=\"Deep Learning Approach\").legend(bbox_to_anchor=(1,1));"
      ]
    },
    {
      "cell_type": "markdown",
      "metadata": {
        "id": "JrvEs0kmboHH"
      },
      "source": [
        "##**Tensorboard_Results**: [link](https://tensorboard.dev/experiment/XhmSJZTnRMSyWN817ksOaw/#scalars&runSelectionState=eyJtb2RlbF9DTk4vdHJhaW4iOmZhbHNlLCJtb2RlbF9DdXN0b20rVEwvdHJhaW4iOmZhbHNlLCJtb2RlbF9UTC90cmFpbiI6ZmFsc2UsIm1vZGVsX01MUC90cmFpbiI6ZmFsc2UsIm1vZGVsX1JOTi90cmFpbiI6ZmFsc2V9)"
      ]
    },
    {
      "cell_type": "code",
      "execution_count": null,
      "metadata": {
        "id": "mW8hCdAtbulW"
      },
      "outputs": [],
      "source": [
        "! tensorboard dev upload --logdir ./tensorboard\\\n",
        "--name \"DL_model_results\"\\\n",
        "--description \"modelling results from https://colab.research.google.com/drive/1iw_0giqGcukPX14qCv16lSBbij5_3MFo?usp=sharing\"\\\n",
        "--one_shot"
      ]
    }
  ],
  "metadata": {
    "accelerator": "GPU",
    "colab": {
      "provenance": []
    },
    "gpuClass": "standard",
    "kernelspec": {
      "display_name": "Python 3",
      "name": "python3"
    },
    "language_info": {
      "name": "python"
    }
  },
  "nbformat": 4,
  "nbformat_minor": 0
}