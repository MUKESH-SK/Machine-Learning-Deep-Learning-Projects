{
  "nbformat": 4,
  "nbformat_minor": 0,
  "metadata": {
    "colab": {
      "provenance": [],
      "authorship_tag": "ABX9TyMPXEf7l/b2Vjm+4HVXAZ7Y",
      "include_colab_link": true
    },
    "kernelspec": {
      "name": "python3",
      "display_name": "Python 3"
    },
    "language_info": {
      "name": "python"
    }
  },
  "cells": [
    {
      "cell_type": "markdown",
      "metadata": {
        "id": "view-in-github",
        "colab_type": "text"
      },
      "source": [
        "<a href=\"https://colab.research.google.com/github/MUKESH-SK/Machine-Learning-Deep-Learning-Projects/blob/main/Gym_Tracker_%2CKneeBend_Count_using_mediapipe.ipynb\" target=\"_parent\"><img src=\"https://colab.research.google.com/assets/colab-badge.svg\" alt=\"Open In Colab\"/></a>"
      ]
    },
    {
      "cell_type": "code",
      "source": [
        "!pip install mediapipe opencv-python"
      ],
      "metadata": {
        "colab": {
          "base_uri": "https://localhost:8080/"
        },
        "id": "1JN8IwKgyeV4",
        "outputId": "9c93ee52-dfc9-4f12-b899-2e22195efa05"
      },
      "execution_count": null,
      "outputs": [
        {
          "output_type": "stream",
          "name": "stdout",
          "text": [
            "Looking in indexes: https://pypi.org/simple, https://us-python.pkg.dev/colab-wheels/public/simple/\n",
            "Collecting mediapipe\n",
            "  Downloading mediapipe-0.9.1.0-cp39-cp39-manylinux_2_17_x86_64.manylinux2014_x86_64.whl (33.0 MB)\n",
            "\u001b[2K     \u001b[90m━━━━━━━━━━━━━━━━━━━━━━━━━━━━━━━━━━━━━━━━\u001b[0m \u001b[32m33.0/33.0 MB\u001b[0m \u001b[31m15.8 MB/s\u001b[0m eta \u001b[36m0:00:00\u001b[0m\n",
            "\u001b[?25hRequirement already satisfied: opencv-python in /usr/local/lib/python3.9/dist-packages (4.6.0.66)\n",
            "Requirement already satisfied: flatbuffers>=2.0 in /usr/local/lib/python3.9/dist-packages (from mediapipe) (23.3.3)\n",
            "Requirement already satisfied: protobuf<4,>=3.11 in /usr/local/lib/python3.9/dist-packages (from mediapipe) (3.19.6)\n",
            "Requirement already satisfied: absl-py in /usr/local/lib/python3.9/dist-packages (from mediapipe) (1.4.0)\n",
            "Requirement already satisfied: opencv-contrib-python in /usr/local/lib/python3.9/dist-packages (from mediapipe) (4.6.0.66)\n",
            "Requirement already satisfied: matplotlib in /usr/local/lib/python3.9/dist-packages (from mediapipe) (3.5.3)\n",
            "Requirement already satisfied: attrs>=19.1.0 in /usr/local/lib/python3.9/dist-packages (from mediapipe) (22.2.0)\n",
            "Requirement already satisfied: numpy in /usr/local/lib/python3.9/dist-packages (from mediapipe) (1.22.4)\n",
            "Requirement already satisfied: cycler>=0.10 in /usr/local/lib/python3.9/dist-packages (from matplotlib->mediapipe) (0.11.0)\n",
            "Requirement already satisfied: kiwisolver>=1.0.1 in /usr/local/lib/python3.9/dist-packages (from matplotlib->mediapipe) (1.4.4)\n",
            "Requirement already satisfied: fonttools>=4.22.0 in /usr/local/lib/python3.9/dist-packages (from matplotlib->mediapipe) (4.39.0)\n",
            "Requirement already satisfied: pyparsing>=2.2.1 in /usr/local/lib/python3.9/dist-packages (from matplotlib->mediapipe) (3.0.9)\n",
            "Requirement already satisfied: packaging>=20.0 in /usr/local/lib/python3.9/dist-packages (from matplotlib->mediapipe) (23.0)\n",
            "Requirement already satisfied: pillow>=6.2.0 in /usr/local/lib/python3.9/dist-packages (from matplotlib->mediapipe) (8.4.0)\n",
            "Requirement already satisfied: python-dateutil>=2.7 in /usr/local/lib/python3.9/dist-packages (from matplotlib->mediapipe) (2.8.2)\n",
            "Requirement already satisfied: six>=1.5 in /usr/local/lib/python3.9/dist-packages (from python-dateutil>=2.7->matplotlib->mediapipe) (1.15.0)\n",
            "Installing collected packages: mediapipe\n",
            "Successfully installed mediapipe-0.9.1.0\n"
          ]
        }
      ]
    },
    {
      "cell_type": "code",
      "source": [
        "import cv2\n",
        "import mediapipe as mp\n",
        "import numpy as np\n",
        "mp_drawing = mp.solutions.drawing_utils\n",
        "mp_pose = mp.solutions.pose"
      ],
      "metadata": {
        "id": "YJtRMJyWyvRF"
      },
      "execution_count": null,
      "outputs": []
    },
    {
      "cell_type": "code",
      "source": [
        "# import cv2\n",
        "# import time\n",
        "# import mediapipe as mp\n",
        "\n",
        "# Build a calculator graph for MediaPipe\n",
        "calculator_graph = mp.CalculatorGraph()\n",
        "\n",
        "# Add the MediaPipe pose model calculator to the graph\n",
        "pose_model = calculator_graph.add_calculator(\n",
        "    \"pose_model\", \"PoseModelCalculator\")\n",
        "\n",
        "# Add the custom calculator for counting reps and holding timer\n",
        "rep_counter = calculator_graph.add_calculator(\n",
        "    \"rep_counter\", \"RepCounterCalculator\")\n",
        "\n",
        "# Connect the pose model output to the rep counter input\n",
        "calculator_graph.connect(pose_model.outputs[0], rep_counter.inputs[0])\n",
        "\n",
        "# Start the MediaPipe calculator graph\n",
        "calculator_graph.start_watches()\n",
        "\n",
        "# Open the video file\n",
        "video = cv2.VideoCapture(\"path/to/video.mp4\")\n",
        "\n",
        "# Read frames from the video file\n",
        "while video.isOpened():\n",
        "    ret, frame = video.read()\n",
        "    if not ret:\n",
        "        break\n",
        "    calculator_graph.add_packet_to_input_stream(\n",
        "        \"video_frames\", mp.packets.Image(frame))\n",
        "    pose_output = calculator_graph.get_output(\"pose_model\").get()\n",
        "    knee_angle = calculate_knee_angle(pose_output) # Custom function to calculate knee angle\n",
        "    if knee_angle < 140: # Check if knee is bent\n",
        "        start_time = time.time()\n",
        "        while (time.time() - start_time) < 8: # Hold timer limit of 8 seconds\n",
        "            pose_output = calculator_graph.get_output(\"pose_model\").get()\n",
        "            knee_angle = calculate_knee_angle(pose_output)\n",
        "            if knee_angle > 140: # Check if knee is stretched\n",
        "                rep_count += 1\n",
        "                break\n",
        "            if (time.time() - start_time) >= 8: # Check if holding time limit is exceeded\n",
        "                print(\"Keep your knee bent\") # Feedback message\n",
        "    frames.append(frame) # Add the frame to the recorded video\n",
        "\n",
        "# Get the output from the rep counter calculator\n",
        "rep_count = calculator_graph.get_output(\"rep_counter\").get()\n",
        "\n",
        "# Print the successful rep count\n",
        "print(\"Successful rep count: \", rep_count)\n",
        "\n",
        "# Stop the MediaPipe calculator graph\n",
        "calculator_graph.stop_watches()\n",
        "\n",
        "# Save the recorded video\n",
        "out = cv2.VideoWriter('output.avi', cv2.VideoWriter_fourcc(*'MJPG'), 15, (frame.shape[1], frame.shape[0]))\n",
        "for f in frames:\n",
        "    out.write(f)\n",
        "out.release()\n",
        "\n"
      ],
      "metadata": {
        "colab": {
          "base_uri": "https://localhost:8080/",
          "height": 252
        },
        "id": "zNUzr6PkzHkW",
        "outputId": "56c6d804-a3dd-4b12-b657-17437f7301a3"
      },
      "execution_count": null,
      "outputs": [
        {
          "output_type": "error",
          "ename": "ValueError",
          "evalue": "ignored",
          "traceback": [
            "\u001b[0;31m---------------------------------------------------------------------------\u001b[0m",
            "\u001b[0;31mValueError\u001b[0m                                Traceback (most recent call last)",
            "\u001b[0;32m<ipython-input-3-e5bed0f9ecf6>\u001b[0m in \u001b[0;36m<module>\u001b[0;34m\u001b[0m\n\u001b[1;32m      4\u001b[0m \u001b[0;34m\u001b[0m\u001b[0m\n\u001b[1;32m      5\u001b[0m \u001b[0;31m# Build a calculator graph for MediaPipe\u001b[0m\u001b[0;34m\u001b[0m\u001b[0;34m\u001b[0m\u001b[0m\n\u001b[0;32m----> 6\u001b[0;31m \u001b[0mcalculator_graph\u001b[0m \u001b[0;34m=\u001b[0m \u001b[0mmp\u001b[0m\u001b[0;34m.\u001b[0m\u001b[0mCalculatorGraph\u001b[0m\u001b[0;34m(\u001b[0m\u001b[0;34m)\u001b[0m\u001b[0;34m\u001b[0m\u001b[0;34m\u001b[0m\u001b[0m\n\u001b[0m\u001b[1;32m      7\u001b[0m \u001b[0;34m\u001b[0m\u001b[0m\n\u001b[1;32m      8\u001b[0m \u001b[0;31m# Add the MediaPipe pose model calculator to the graph\u001b[0m\u001b[0;34m\u001b[0m\u001b[0;34m\u001b[0m\u001b[0m\n",
            "\u001b[0;31mValueError\u001b[0m: Please provide one of the following: 'binary_graph_path' to initialize the graph with a binary graph file, or 'graph_config' to initialize the graph with a graph config proto, or 'validated_graph_config' to initialize the graph with a ValidatedGraphConfig object."
          ]
        }
      ]
    }
  ]
}